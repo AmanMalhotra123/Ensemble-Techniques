{
 "cells": [
  {
   "cell_type": "markdown",
   "metadata": {},
   "source": [
    "Importing Libraries"
   ]
  },
  {
   "cell_type": "code",
   "execution_count": 1,
   "metadata": {},
   "outputs": [],
   "source": [
    "import numpy as np\n",
    "import pandas as pd\n",
    "import seaborn as sns\n",
    "import matplotlib.pyplot as plt\n",
    "from sklearn.model_selection import train_test_split\n",
    "from sklearn import metrics\n",
    "from scipy.stats import zscore\n",
    "%matplotlib inline"
   ]
  },
  {
   "cell_type": "code",
   "execution_count": 2,
   "metadata": {},
   "outputs": [
    {
     "data": {
      "text/html": [
       "<div>\n",
       "<style scoped>\n",
       "    .dataframe tbody tr th:only-of-type {\n",
       "        vertical-align: middle;\n",
       "    }\n",
       "\n",
       "    .dataframe tbody tr th {\n",
       "        vertical-align: top;\n",
       "    }\n",
       "\n",
       "    .dataframe thead th {\n",
       "        text-align: right;\n",
       "    }\n",
       "</style>\n",
       "<table border=\"1\" class=\"dataframe\">\n",
       "  <thead>\n",
       "    <tr style=\"text-align: right;\">\n",
       "      <th></th>\n",
       "      <th>age</th>\n",
       "      <th>job</th>\n",
       "      <th>marital</th>\n",
       "      <th>education</th>\n",
       "      <th>default</th>\n",
       "      <th>balance</th>\n",
       "      <th>housing</th>\n",
       "      <th>loan</th>\n",
       "      <th>contact</th>\n",
       "      <th>day</th>\n",
       "      <th>month</th>\n",
       "      <th>duration</th>\n",
       "      <th>campaign</th>\n",
       "      <th>pdays</th>\n",
       "      <th>previous</th>\n",
       "      <th>poutcome</th>\n",
       "      <th>Target</th>\n",
       "    </tr>\n",
       "  </thead>\n",
       "  <tbody>\n",
       "    <tr>\n",
       "      <th>0</th>\n",
       "      <td>58</td>\n",
       "      <td>management</td>\n",
       "      <td>married</td>\n",
       "      <td>tertiary</td>\n",
       "      <td>no</td>\n",
       "      <td>2143</td>\n",
       "      <td>yes</td>\n",
       "      <td>no</td>\n",
       "      <td>unknown</td>\n",
       "      <td>5</td>\n",
       "      <td>may</td>\n",
       "      <td>261</td>\n",
       "      <td>1</td>\n",
       "      <td>-1</td>\n",
       "      <td>0</td>\n",
       "      <td>unknown</td>\n",
       "      <td>no</td>\n",
       "    </tr>\n",
       "    <tr>\n",
       "      <th>1</th>\n",
       "      <td>44</td>\n",
       "      <td>technician</td>\n",
       "      <td>single</td>\n",
       "      <td>secondary</td>\n",
       "      <td>no</td>\n",
       "      <td>29</td>\n",
       "      <td>yes</td>\n",
       "      <td>no</td>\n",
       "      <td>unknown</td>\n",
       "      <td>5</td>\n",
       "      <td>may</td>\n",
       "      <td>151</td>\n",
       "      <td>1</td>\n",
       "      <td>-1</td>\n",
       "      <td>0</td>\n",
       "      <td>unknown</td>\n",
       "      <td>no</td>\n",
       "    </tr>\n",
       "    <tr>\n",
       "      <th>2</th>\n",
       "      <td>33</td>\n",
       "      <td>entrepreneur</td>\n",
       "      <td>married</td>\n",
       "      <td>secondary</td>\n",
       "      <td>no</td>\n",
       "      <td>2</td>\n",
       "      <td>yes</td>\n",
       "      <td>yes</td>\n",
       "      <td>unknown</td>\n",
       "      <td>5</td>\n",
       "      <td>may</td>\n",
       "      <td>76</td>\n",
       "      <td>1</td>\n",
       "      <td>-1</td>\n",
       "      <td>0</td>\n",
       "      <td>unknown</td>\n",
       "      <td>no</td>\n",
       "    </tr>\n",
       "    <tr>\n",
       "      <th>3</th>\n",
       "      <td>47</td>\n",
       "      <td>blue-collar</td>\n",
       "      <td>married</td>\n",
       "      <td>unknown</td>\n",
       "      <td>no</td>\n",
       "      <td>1506</td>\n",
       "      <td>yes</td>\n",
       "      <td>no</td>\n",
       "      <td>unknown</td>\n",
       "      <td>5</td>\n",
       "      <td>may</td>\n",
       "      <td>92</td>\n",
       "      <td>1</td>\n",
       "      <td>-1</td>\n",
       "      <td>0</td>\n",
       "      <td>unknown</td>\n",
       "      <td>no</td>\n",
       "    </tr>\n",
       "    <tr>\n",
       "      <th>4</th>\n",
       "      <td>33</td>\n",
       "      <td>unknown</td>\n",
       "      <td>single</td>\n",
       "      <td>unknown</td>\n",
       "      <td>no</td>\n",
       "      <td>1</td>\n",
       "      <td>no</td>\n",
       "      <td>no</td>\n",
       "      <td>unknown</td>\n",
       "      <td>5</td>\n",
       "      <td>may</td>\n",
       "      <td>198</td>\n",
       "      <td>1</td>\n",
       "      <td>-1</td>\n",
       "      <td>0</td>\n",
       "      <td>unknown</td>\n",
       "      <td>no</td>\n",
       "    </tr>\n",
       "  </tbody>\n",
       "</table>\n",
       "</div>"
      ],
      "text/plain": [
       "   age           job  marital  education default  balance housing loan  \\\n",
       "0   58    management  married   tertiary      no     2143     yes   no   \n",
       "1   44    technician   single  secondary      no       29     yes   no   \n",
       "2   33  entrepreneur  married  secondary      no        2     yes  yes   \n",
       "3   47   blue-collar  married    unknown      no     1506     yes   no   \n",
       "4   33       unknown   single    unknown      no        1      no   no   \n",
       "\n",
       "   contact  day month  duration  campaign  pdays  previous poutcome Target  \n",
       "0  unknown    5   may       261         1     -1         0  unknown     no  \n",
       "1  unknown    5   may       151         1     -1         0  unknown     no  \n",
       "2  unknown    5   may        76         1     -1         0  unknown     no  \n",
       "3  unknown    5   may        92         1     -1         0  unknown     no  \n",
       "4  unknown    5   may       198         1     -1         0  unknown     no  "
      ]
     },
     "execution_count": 2,
     "metadata": {},
     "output_type": "execute_result"
    }
   ],
   "source": [
    "# Importing the data file and showing the first Five Record\n",
    "banking_df =  pd.read_csv(\"bank.csv\")\n",
    "banking_df.head()"
   ]
  },
  {
   "cell_type": "code",
   "execution_count": 3,
   "metadata": {},
   "outputs": [
    {
     "data": {
      "text/plain": [
       "(45211, 17)"
      ]
     },
     "execution_count": 3,
     "metadata": {},
     "output_type": "execute_result"
    }
   ],
   "source": [
    "banking_df.shape"
   ]
  },
  {
   "cell_type": "markdown",
   "metadata": {},
   "source": [
    "This file contains 45211 records and 17 columns where Target is our dependent column and rest are independent column. Now Lets analyse what this data is all about"
   ]
  },
  {
   "cell_type": "markdown",
   "metadata": {},
   "source": [
    "The data is related with direct marketing campaigns of a Portuguese banking institution. The marketing campaigns were based on phone calls. Often, more than one contact to the same client was required, in order to access if the product (bank term deposit) would be ('yes') or not ('no') subscribed. In the data we have the following columns"
   ]
  },
  {
   "cell_type": "markdown",
   "metadata": {},
   "source": [
    "### Client Personal Information"
   ]
  },
  {
   "cell_type": "markdown",
   "metadata": {},
   "source": [
    "Age ->  Age of the client\n",
    "\n",
    "Job ->Type of Job (Admin, Blue-collar, Entrepreneur,Housemaid,Management,Retired,Self-Employed, Services ,Student, Technician,Unemployed,Unknown)\n",
    "\n",
    "Marital -> Marital Status of Client (Single , Married , Divorced)\n",
    "\n",
    "Education-> Education Status of Client (Primary, Secondary ,Tertiary)"
   ]
  },
  {
   "cell_type": "markdown",
   "metadata": {},
   "source": [
    "### Client Financial Information"
   ]
  },
  {
   "cell_type": "markdown",
   "metadata": {},
   "source": [
    "Default -> Whether Client has been defaulted in loan with Yes or No\n",
    "\n",
    "Balance -> Balance in bank account of the client\n",
    "\n",
    "Housing -> Whether the client has taken housing Loan with Yes or No\n",
    "\n",
    "Loan -> Whether the client has taken Personal Loan with Yes or No"
   ]
  },
  {
   "cell_type": "markdown",
   "metadata": {},
   "source": [
    "### Related to Current Marketing Campaign"
   ]
  },
  {
   "cell_type": "markdown",
   "metadata": {},
   "source": [
    "Contact -> Client communication Type with Cellular , Telephone or Unknown\n",
    "\n",
    "Day-> Date of the Month When Cliet was last contacted for Term deposit\n",
    "\n",
    "Month -> Month in which Person was last contacted for Term Deposit\n",
    "\n",
    "Duration -> Duration of the call when person was last contacted for Term Deposit(In Seconds)\n",
    "\n",
    "Campaign - > How Many times client has been contacted in this campaign"
   ]
  },
  {
   "cell_type": "markdown",
   "metadata": {},
   "source": [
    "### Related to Prior Marketing Campaign"
   ]
  },
  {
   "cell_type": "markdown",
   "metadata": {},
   "source": [
    "Pdays -> No. of days that passed by after the client was last contacted from the previous campaign\n",
    "\n",
    "Previous -> How many times that client was contacted before this campaign.\n",
    "\n",
    "Poutcome -> Outcome of Previous marketing Campaign(Success, failure, Unknown, Other)"
   ]
  },
  {
   "cell_type": "markdown",
   "metadata": {},
   "source": [
    "### Output Feature  "
   ]
  },
  {
   "cell_type": "markdown",
   "metadata": {},
   "source": [
    "Target-> Outcome of this Campaign (Yes or No)"
   ]
  },
  {
   "cell_type": "code",
   "execution_count": 4,
   "metadata": {},
   "outputs": [
    {
     "data": {
      "text/plain": [
       "age          0\n",
       "job          0\n",
       "marital      0\n",
       "education    0\n",
       "default      0\n",
       "balance      0\n",
       "housing      0\n",
       "loan         0\n",
       "contact      0\n",
       "day          0\n",
       "month        0\n",
       "duration     0\n",
       "campaign     0\n",
       "pdays        0\n",
       "previous     0\n",
       "poutcome     0\n",
       "Target       0\n",
       "dtype: int64"
      ]
     },
     "execution_count": 4,
     "metadata": {},
     "output_type": "execute_result"
    }
   ],
   "source": [
    "banking_df.isnull().sum()"
   ]
  },
  {
   "cell_type": "markdown",
   "metadata": {},
   "source": [
    "Here we can see there is no null value in the dataset."
   ]
  },
  {
   "cell_type": "code",
   "execution_count": 5,
   "metadata": {},
   "outputs": [
    {
     "name": "stdout",
     "output_type": "stream",
     "text": [
      "<class 'pandas.core.frame.DataFrame'>\n",
      "RangeIndex: 45211 entries, 0 to 45210\n",
      "Data columns (total 17 columns):\n",
      "age          45211 non-null int64\n",
      "job          45211 non-null object\n",
      "marital      45211 non-null object\n",
      "education    45211 non-null object\n",
      "default      45211 non-null object\n",
      "balance      45211 non-null int64\n",
      "housing      45211 non-null object\n",
      "loan         45211 non-null object\n",
      "contact      45211 non-null object\n",
      "day          45211 non-null int64\n",
      "month        45211 non-null object\n",
      "duration     45211 non-null int64\n",
      "campaign     45211 non-null int64\n",
      "pdays        45211 non-null int64\n",
      "previous     45211 non-null int64\n",
      "poutcome     45211 non-null object\n",
      "Target       45211 non-null object\n",
      "dtypes: int64(7), object(10)\n",
      "memory usage: 5.9+ MB\n"
     ]
    }
   ],
   "source": [
    "banking_df.info()"
   ]
  },
  {
   "cell_type": "markdown",
   "metadata": {},
   "source": [
    "This shows Number of record in each column with data type of Each Column"
   ]
  },
  {
   "cell_type": "code",
   "execution_count": 6,
   "metadata": {},
   "outputs": [
    {
     "data": {
      "text/html": [
       "<div>\n",
       "<style scoped>\n",
       "    .dataframe tbody tr th:only-of-type {\n",
       "        vertical-align: middle;\n",
       "    }\n",
       "\n",
       "    .dataframe tbody tr th {\n",
       "        vertical-align: top;\n",
       "    }\n",
       "\n",
       "    .dataframe thead th {\n",
       "        text-align: right;\n",
       "    }\n",
       "</style>\n",
       "<table border=\"1\" class=\"dataframe\">\n",
       "  <thead>\n",
       "    <tr style=\"text-align: right;\">\n",
       "      <th></th>\n",
       "      <th>age</th>\n",
       "      <th>balance</th>\n",
       "      <th>day</th>\n",
       "      <th>duration</th>\n",
       "      <th>campaign</th>\n",
       "      <th>pdays</th>\n",
       "      <th>previous</th>\n",
       "    </tr>\n",
       "  </thead>\n",
       "  <tbody>\n",
       "    <tr>\n",
       "      <th>count</th>\n",
       "      <td>45211.000000</td>\n",
       "      <td>45211.000000</td>\n",
       "      <td>45211.000000</td>\n",
       "      <td>45211.000000</td>\n",
       "      <td>45211.000000</td>\n",
       "      <td>45211.000000</td>\n",
       "      <td>45211.000000</td>\n",
       "    </tr>\n",
       "    <tr>\n",
       "      <th>mean</th>\n",
       "      <td>40.936210</td>\n",
       "      <td>1362.272058</td>\n",
       "      <td>15.806419</td>\n",
       "      <td>258.163080</td>\n",
       "      <td>2.763841</td>\n",
       "      <td>40.197828</td>\n",
       "      <td>0.580323</td>\n",
       "    </tr>\n",
       "    <tr>\n",
       "      <th>std</th>\n",
       "      <td>10.618762</td>\n",
       "      <td>3044.765829</td>\n",
       "      <td>8.322476</td>\n",
       "      <td>257.527812</td>\n",
       "      <td>3.098021</td>\n",
       "      <td>100.128746</td>\n",
       "      <td>2.303441</td>\n",
       "    </tr>\n",
       "    <tr>\n",
       "      <th>min</th>\n",
       "      <td>18.000000</td>\n",
       "      <td>-8019.000000</td>\n",
       "      <td>1.000000</td>\n",
       "      <td>0.000000</td>\n",
       "      <td>1.000000</td>\n",
       "      <td>-1.000000</td>\n",
       "      <td>0.000000</td>\n",
       "    </tr>\n",
       "    <tr>\n",
       "      <th>25%</th>\n",
       "      <td>33.000000</td>\n",
       "      <td>72.000000</td>\n",
       "      <td>8.000000</td>\n",
       "      <td>103.000000</td>\n",
       "      <td>1.000000</td>\n",
       "      <td>-1.000000</td>\n",
       "      <td>0.000000</td>\n",
       "    </tr>\n",
       "    <tr>\n",
       "      <th>50%</th>\n",
       "      <td>39.000000</td>\n",
       "      <td>448.000000</td>\n",
       "      <td>16.000000</td>\n",
       "      <td>180.000000</td>\n",
       "      <td>2.000000</td>\n",
       "      <td>-1.000000</td>\n",
       "      <td>0.000000</td>\n",
       "    </tr>\n",
       "    <tr>\n",
       "      <th>75%</th>\n",
       "      <td>48.000000</td>\n",
       "      <td>1428.000000</td>\n",
       "      <td>21.000000</td>\n",
       "      <td>319.000000</td>\n",
       "      <td>3.000000</td>\n",
       "      <td>-1.000000</td>\n",
       "      <td>0.000000</td>\n",
       "    </tr>\n",
       "    <tr>\n",
       "      <th>max</th>\n",
       "      <td>95.000000</td>\n",
       "      <td>102127.000000</td>\n",
       "      <td>31.000000</td>\n",
       "      <td>4918.000000</td>\n",
       "      <td>63.000000</td>\n",
       "      <td>871.000000</td>\n",
       "      <td>275.000000</td>\n",
       "    </tr>\n",
       "  </tbody>\n",
       "</table>\n",
       "</div>"
      ],
      "text/plain": [
       "                age        balance           day      duration      campaign  \\\n",
       "count  45211.000000   45211.000000  45211.000000  45211.000000  45211.000000   \n",
       "mean      40.936210    1362.272058     15.806419    258.163080      2.763841   \n",
       "std       10.618762    3044.765829      8.322476    257.527812      3.098021   \n",
       "min       18.000000   -8019.000000      1.000000      0.000000      1.000000   \n",
       "25%       33.000000      72.000000      8.000000    103.000000      1.000000   \n",
       "50%       39.000000     448.000000     16.000000    180.000000      2.000000   \n",
       "75%       48.000000    1428.000000     21.000000    319.000000      3.000000   \n",
       "max       95.000000  102127.000000     31.000000   4918.000000     63.000000   \n",
       "\n",
       "              pdays      previous  \n",
       "count  45211.000000  45211.000000  \n",
       "mean      40.197828      0.580323  \n",
       "std      100.128746      2.303441  \n",
       "min       -1.000000      0.000000  \n",
       "25%       -1.000000      0.000000  \n",
       "50%       -1.000000      0.000000  \n",
       "75%       -1.000000      0.000000  \n",
       "max      871.000000    275.000000  "
      ]
     },
     "execution_count": 6,
     "metadata": {},
     "output_type": "execute_result"
    }
   ],
   "source": [
    "banking_df.describe()"
   ]
  },
  {
   "cell_type": "markdown",
   "metadata": {},
   "source": [
    "Here Mean and Median value of Age is almost similar so we can say the data in age column is somehow normally distributed but in case of Balance There is huge difference between mean and Median value also standard deviation value is very high So in this case data is Rightly skewed Again . We can not get much information from describe function because most of our data is categorical type.Here Minimum value of Pdays is -1 . Here -1 means Person was not contacted in the Previous Campaign."
   ]
  },
  {
   "cell_type": "code",
   "execution_count": 7,
   "metadata": {},
   "outputs": [
    {
     "data": {
      "text/plain": [
       "no     39922\n",
       "yes     5289\n",
       "Name: Target, dtype: int64"
      ]
     },
     "execution_count": 7,
     "metadata": {},
     "output_type": "execute_result"
    }
   ],
   "source": [
    "campaign_result = banking_df[\"Target\"].value_counts()\n",
    "campaign_result"
   ]
  },
  {
   "cell_type": "markdown",
   "metadata": {},
   "source": [
    "Number of People who accepted Term deposit is 5289 and the No. of people who did not accepted the term deposit are 39922. Below is the graphical representation of the above data"
   ]
  },
  {
   "cell_type": "code",
   "execution_count": 8,
   "metadata": {},
   "outputs": [
    {
     "data": {
      "text/plain": [
       "<matplotlib.axes._subplots.AxesSubplot at 0x1d9cbee9828>"
      ]
     },
     "execution_count": 8,
     "metadata": {},
     "output_type": "execute_result"
    },
    {
     "data": {
      "image/png": "[encoded data removed]",
      "text/plain": [
       "<Figure size 432x288 with 1 Axes>"
      ]
     },
     "metadata": {
      "needs_background": "light"
     },
     "output_type": "display_data"
    }
   ],
   "source": [
    "sns.countplot(x= banking_df[\"Target\"],palette=\"autumn\")"
   ]
  },
  {
   "cell_type": "code",
   "execution_count": 9,
   "metadata": {},
   "outputs": [
    {
     "data": {
      "image/png": "[encoded data removed]",
      "text/plain": [
       "<Figure size 432x288 with 1 Axes>"
      ]
     },
     "metadata": {},
     "output_type": "display_data"
    }
   ],
   "source": [
    "plt.pie(x=campaign_result.values,labels=campaign_result.keys(),radius=1.5,autopct=\"%.2f %%\",colors=[\"red\",\"yellow\"])\n",
    "plt.legend()\n",
    "plt.show()"
   ]
  },
  {
   "cell_type": "code",
   "execution_count": 10,
   "metadata": {},
   "outputs": [
    {
     "data": {
      "application/javascript": [
       "IPython.OutputArea.prototype._should_scroll = function(lines) {\n",
       "    return false;\n",
       "}\n"
      ],
      "text/plain": [
       "<IPython.core.display.Javascript object>"
      ]
     },
     "metadata": {},
     "output_type": "display_data"
    }
   ],
   "source": [
    "%%javascript\n",
    "IPython.OutputArea.prototype._should_scroll = function(lines) {\n",
    "    return false;\n",
    "}"
   ]
  },
  {
   "cell_type": "markdown",
   "metadata": {},
   "source": [
    "The Above Code is for disabling the scrolling when plots displayed in one cell"
   ]
  },
  {
   "cell_type": "code",
   "execution_count": 11,
   "metadata": {},
   "outputs": [],
   "source": [
    "# preparing order for data to display\n",
    "month_order = [\"may\",\"jul\",\"aug\",\"jun\",\"nov\",\"apr\",\"feb\",\"jan\",\"oct\",\"sep\",\"mar\",\"dec\"]\n",
    "job_order = [\"blue-collar\",\"management\",\"technician\",\"admin.\",\"services\",\"retired\",\"self-employed\",\"entrepreneur\",\"unemployed\",\"housemaid\",\"student\",\"unknown\"]\n",
    "education_order = [\"secondary\",\"tertiary\",\"primary\",\"unknown\"]\n",
    "contact_order = [\"cellular\",\"unknown\",\"telephone\"]\n",
    "marital_order = [\"married\",\"single\",\"divorced\"]\n",
    "loan_order = [\"no\",\"yes\"]\n",
    "default_order = [\"no\",\"yes\"]\n",
    "housing_order = [\"yes\",\"no\"]\n",
    "poutcome_order = [\"unknown\",\"failure\",\"other\",\"success\"]\n",
    "order_columns = [month_order,education_order,contact_order,marital_order,loan_order,default_order,housing_order,poutcome_order] \n",
    "columns =[\"month\",\"education\",\"contact\",\"marital\",\"loan\",\"default\",\"housing\",\"poutcome\"]"
   ]
  },
  {
   "cell_type": "code",
   "execution_count": 12,
   "metadata": {},
   "outputs": [],
   "source": [
    "def calculate_percentage_for_target_column(column_name):\n",
    "    bar =  column_name.patches\n",
    "    half =  int(len(bar)/2)\n",
    "    left_bars = bar[:half]\n",
    "    right_bars =  bar[half:]\n",
    "    for left,right in zip(left_bars,right_bars):\n",
    "        left_height =  left.get_height()\n",
    "        right_height =  right.get_height()\n",
    "        total_height = left_height + right_height\n",
    "        column_name.text(x = left.get_x() + (left.get_width())/2 , y =  (left_height+40),s ='{0:.0%}'.format(left_height/total_height), ha=\"center\")\n",
    "        column_name.text(x = right.get_x() + (right.get_width())/2 , y = right_height + 40,s ='{0:.0%}'.format(right_height/total_height), ha=\"center\")\n",
    "\n",
    "def calculate_percentage(column_name):\n",
    "    total = banking_df.shape[0]\n",
    "    for x in column_name.patches:\n",
    "        column_name.annotate('{:.1f}%'.format(100*x.get_height()/total), (x.get_x()+0.1, x.get_height()+5))        "
   ]
  },
  {
   "cell_type": "code",
   "execution_count": 13,
   "metadata": {},
   "outputs": [
    {
     "data": {
      "image/png": "[encoded data removed]",
      "text/plain": [
       "<Figure size 1440x3600 with 18 Axes>"
      ]
     },
     "metadata": {
      "needs_background": "light"
     },
     "output_type": "display_data"
    }
   ],
   "source": [
    "fig , ax =  plt.subplots(nrows=9,ncols=2,figsize = (20,50))\n",
    "x =  sns.countplot(x=banking_df[\"job\"],ax = ax[0][0],order=job_order)\n",
    "x.set_xticklabels(x.get_xticklabels(),rotation =40)\n",
    "calculate_percentage(x)\n",
    "x =  sns.countplot(x=banking_df[\"job\"],hue=banking_df[\"Target\"],ax = ax[0][1],order=job_order,palette=\"magma\")\n",
    "x.set_xticklabels(x.get_xticklabels(),rotation =40)\n",
    "calculate_percentage_for_target_column(x)\n",
    "\n",
    "for i in np.arange(1,9):\n",
    "    for j in np.arange(1):\n",
    "        q =sns.countplot(x=banking_df[columns[i-1]],ax=ax[i][j],order=order_columns[i-1])\n",
    "        calculate_percentage(q)\n",
    "        q =sns.countplot(x=banking_df[columns[i-1]],ax=ax[i][j+1],hue=banking_df[\"Target\"],palette=\"magma\",order=order_columns[i-1])\n",
    "        calculate_percentage_for_target_column(q)\n",
    "\n",
    "plt.show()"
   ]
  },
  {
   "cell_type": "markdown",
   "metadata": {},
   "source": [
    "From the Job Graph we have Maximum No. of clients with Blue-collar Job followed by Management Job but clients who subscribed for Bank Term deposit are maximum (in numbers) from Management Job followed by Technician Job.From the Month Graph maximum Numbers of Calls were made in the month of May followed by july and also the maximum (in numbers)Bank term deposit subscribed in the month of May.In Education Graph, we have maximum clients who are secondary educated and maximum clients(in numbers) who subscribed the Term deposit are also secondary educated.In Contact graph , Maximum No. of Clients have Cellular followed by Telephone and the maximum clients who subscribed for Term deposit aslo use cellular as mode of contact.Marital Status of the maximum no. of the clients is Married and the maximum number of clients who subscribed for term deposit are also married.In Personal Laon, only 16% clients have taken personal loan and 84% of the clients have not taken personal loan and the clients who have not taken personal loan more subscribe to Term deposit than the clients who have taken personl loan.In Default graph only 1.8% of the total clients are default and the maximum clients who are not default are subscribed to term deposit. For Housing Loan graph there are 55.6% of the total clients who have taken Housing loan and 44.6% of the clients have not taken housing loan also there are more subscribers of term deposit of those who have not taken the housing loan. In case of Poutcome graph , we can see here outcome of the previous campaign was 81.7% was unknown ,10.8% was Failure ,4.1% was other and only 3.3% was success and in this campaign maximum clients (in numbers) , whose status was unknown in the previous campaign,have subscribed term deposit in this campaign"
   ]
  },
  {
   "cell_type": "code",
   "execution_count": 14,
   "metadata": {},
   "outputs": [
    {
     "data": {
      "image/png": "[encoded data removed]",
      "text/plain": [
       "<Figure size 1440x432 with 3 Axes>"
      ]
     },
     "metadata": {
      "needs_background": "light"
     },
     "output_type": "display_data"
    }
   ],
   "source": [
    "columns = [\"age\",\"balance\",\"duration\"]\n",
    "colors =[\"red\",\"green\"]\n",
    "labels=[\"no\",\"yes\"]\n",
    "fig , ax =  plt.subplots(nrows=1,ncols=3,figsize = (20,6),squeeze=False)\n",
    "for i in np.arange(3):\n",
    "        for color,label in zip(colors,labels):\n",
    "            z =sns.distplot(a=banking_df[banking_df[\"Target\"]==label][columns[i]],color=color,label=label,ax=ax[0][i],kde=False,bins=12)\n",
    "            z.legend(fontsize = 15)"
   ]
  },
  {
   "cell_type": "markdown",
   "metadata": {},
   "source": [
    "From Age graph we can say we have maximum clients are in the age group of between 30 and 50 and the maximum clients who subscribed for term deposit are in the age group of between 30 and 35. In Balance Graph , we have given balance from negative 8019 to positive 102127(from describe function) and the customers who have subscibed term deposit also have balance in negative , 0 and in positive value so we can not say balance have much effect on the clients to decide whether to go for term deposit or not because there are some clients who have negative balance in accounts also have subscribed to term deposit. "
   ]
  },
  {
   "cell_type": "code",
   "execution_count": 15,
   "metadata": {},
   "outputs": [
    {
     "data": {
      "image/png": "[encoded data removed]",
      "text/plain": [
       "<Figure size 432x288 with 1 Axes>"
      ]
     },
     "metadata": {
      "needs_background": "light"
     },
     "output_type": "display_data"
    }
   ],
   "source": [
    "colors =[\"red\",\"green\"]\n",
    "labels=[\"no\",\"yes\"]\n",
    "for color,label in zip(colors,labels):\n",
    "    z=sns.distplot(a=banking_df[banking_df[\"Target\"]==label][\"campaign\"],color=color,label=label,kde=False,bins=12)\n",
    "    z.legend(fontsize = 15)"
   ]
  },
  {
   "cell_type": "code",
   "execution_count": 16,
   "metadata": {},
   "outputs": [
    {
     "name": "stdout",
     "output_type": "stream",
     "text": [
      "1    2561\n",
      "2    1401\n",
      "3     618\n",
      "4     317\n",
      "5     139\n",
      "6      92\n",
      "Name: campaign, dtype: int64\n"
     ]
    }
   ],
   "source": [
    "print(banking_df[banking_df[\"Target\"] == \"yes\"][\"campaign\"].value_counts().head(6))\n",
    "# Below are the details of number of clients who subscribe the term deposit on contacted them from one to 6 times"
   ]
  },
  {
   "cell_type": "markdown",
   "metadata": {},
   "source": [
    "In Campaign Column it is showing there are 2561 clients who subscribed for Term Deposit was contacted only one time followed by 1401 clients to whom contacts were made 2 times followed by 618 clients to whom contacts were made 3 times and so on. so we can say that there is no such effect on how many times the contact should made to a particular client for making them to subscribe the term deposit "
   ]
  },
  {
   "cell_type": "code",
   "execution_count": 17,
   "metadata": {},
   "outputs": [
    {
     "data": {
      "image/png": "[encoded data removed]",
      "text/plain": [
       "<Figure size 432x288 with 1 Axes>"
      ]
     },
     "metadata": {
      "needs_background": "light"
     },
     "output_type": "display_data"
    }
   ],
   "source": [
    "colors =[\"red\",\"green\"]\n",
    "labels=[\"no\",\"yes\"]\n",
    "for color,label in zip(colors,labels):\n",
    "    z=sns.distplot(a=banking_df[banking_df[\"Target\"]==label][\"pdays\"],color=color,label=label,kde=False,bins=12)\n",
    "    z.legend(fontsize = 15)"
   ]
  },
  {
   "cell_type": "code",
   "execution_count": 18,
   "metadata": {},
   "outputs": [
    {
     "name": "stdout",
     "output_type": "stream",
     "text": [
      "-1      3384\n",
      " 92       96\n",
      " 182      80\n",
      " 91       75\n",
      " 181      74\n",
      " 183      64\n",
      "Name: pdays, dtype: int64\n"
     ]
    }
   ],
   "source": [
    "print(banking_df[banking_df[\"Target\"] == \"yes\"][\"pdays\"].value_counts().head(6))\n",
    "# Below are the details of number of clients who subscribe the term deposit and the No. of days passed after the previous campaign"
   ]
  },
  {
   "cell_type": "markdown",
   "metadata": {},
   "source": [
    "Here -1 means that the person has not contacted previously and we can see that the maximum number of clients that is 3384 who subscribed term deposit has not been previously contacted.Here I am goint to Convert -1 into 0 ."
   ]
  },
  {
   "cell_type": "code",
   "execution_count": 19,
   "metadata": {},
   "outputs": [],
   "source": [
    "banking_df[\"pdays\"] = banking_df.apply(lambda x: 0 if x[\"pdays\"] == -1 else x[\"pdays\"],axis=1)"
   ]
  },
  {
   "cell_type": "code",
   "execution_count": 20,
   "metadata": {},
   "outputs": [
    {
     "data": {
      "image/png": "[encoded data removed]",
      "text/plain": [
       "<Figure size 432x288 with 1 Axes>"
      ]
     },
     "metadata": {
      "needs_background": "light"
     },
     "output_type": "display_data"
    }
   ],
   "source": [
    "colors =[\"red\",\"green\"]\n",
    "labels=[\"no\",\"yes\"]\n",
    "for color,label in zip(colors,labels):\n",
    "    z=sns.distplot(a=banking_df[banking_df[\"Target\"]==label][\"previous\"],color=color,label=label,kde=False,bins=12)\n",
    "    z.legend(fontsize = 15)"
   ]
  },
  {
   "cell_type": "code",
   "execution_count": 21,
   "metadata": {},
   "outputs": [
    {
     "name": "stdout",
     "output_type": "stream",
     "text": [
      "0    3384\n",
      "1     583\n",
      "2     456\n",
      "3     294\n",
      "4     171\n",
      "5     121\n",
      "Name: previous, dtype: int64\n"
     ]
    }
   ],
   "source": [
    "print(banking_df[banking_df[\"Target\"] == \"yes\"][\"previous\"].value_counts().head(6))\n",
    "# Below are the details of number of clients who subscribed the term deposit and the no. of times client was contacted before \n",
    "# this campaign"
   ]
  },
  {
   "cell_type": "markdown",
   "metadata": {},
   "source": [
    "It Clearly shows that the maximum no.of clients that is 3384 who subscribe for term deposit has not been contacted before this campaign followed by 583 clients to whom contact was made only 1 time followed by 456 clients to whom contact was made 2 times and so on"
   ]
  },
  {
   "cell_type": "code",
   "execution_count": 22,
   "metadata": {},
   "outputs": [
    {
     "data": {
      "text/plain": [
       "<matplotlib.axes._subplots.AxesSubplot at 0x1d9cd2638d0>"
      ]
     },
     "execution_count": 22,
     "metadata": {},
     "output_type": "execute_result"
    },
    {
     "data": {
      "image/png": "[encoded data removed]",
      "text/plain": [
       "<Figure size 432x288 with 1 Axes>"
      ]
     },
     "metadata": {
      "needs_background": "light"
     },
     "output_type": "display_data"
    }
   ],
   "source": [
    "sns.countplot(x=banking_df[\"day\"],hue=banking_df[\"Target\"])"
   ]
  },
  {
   "cell_type": "markdown",
   "metadata": {},
   "source": [
    "Here I am going to delete day column from data set because it does not make any sense about which day of the month should bank call to customer for marketing campaign. Also Machine learning will consider 31>30>29 in algorithms and if i use Separate column for each date then i will have 31 new columns for this and our model will face curse of dimentionality.So it is better to drop this column for further analysis."
   ]
  },
  {
   "cell_type": "code",
   "execution_count": 23,
   "metadata": {},
   "outputs": [],
   "source": [
    "banking_df.drop(labels=\"day\",inplace=True,axis=1)"
   ]
  },
  {
   "cell_type": "markdown",
   "metadata": {},
   "source": [
    "### Data PreProcessing"
   ]
  },
  {
   "cell_type": "code",
   "execution_count": 24,
   "metadata": {},
   "outputs": [],
   "source": [
    "from sklearn.preprocessing import LabelEncoder\n",
    "la = LabelEncoder()"
   ]
  },
  {
   "cell_type": "code",
   "execution_count": 25,
   "metadata": {},
   "outputs": [
    {
     "data": {
      "text/html": [
       "<div>\n",
       "<style scoped>\n",
       "    .dataframe tbody tr th:only-of-type {\n",
       "        vertical-align: middle;\n",
       "    }\n",
       "\n",
       "    .dataframe tbody tr th {\n",
       "        vertical-align: top;\n",
       "    }\n",
       "\n",
       "    .dataframe thead th {\n",
       "        text-align: right;\n",
       "    }\n",
       "</style>\n",
       "<table border=\"1\" class=\"dataframe\">\n",
       "  <thead>\n",
       "    <tr style=\"text-align: right;\">\n",
       "      <th></th>\n",
       "      <th>age</th>\n",
       "      <th>job</th>\n",
       "      <th>marital</th>\n",
       "      <th>education</th>\n",
       "      <th>default</th>\n",
       "      <th>balance</th>\n",
       "      <th>housing</th>\n",
       "      <th>loan</th>\n",
       "      <th>contact</th>\n",
       "      <th>month</th>\n",
       "      <th>duration</th>\n",
       "      <th>campaign</th>\n",
       "      <th>pdays</th>\n",
       "      <th>previous</th>\n",
       "      <th>poutcome</th>\n",
       "      <th>Target</th>\n",
       "    </tr>\n",
       "  </thead>\n",
       "  <tbody>\n",
       "    <tr>\n",
       "      <th>0</th>\n",
       "      <td>58</td>\n",
       "      <td>management</td>\n",
       "      <td>married</td>\n",
       "      <td>tertiary</td>\n",
       "      <td>no</td>\n",
       "      <td>2143</td>\n",
       "      <td>yes</td>\n",
       "      <td>no</td>\n",
       "      <td>unknown</td>\n",
       "      <td>may</td>\n",
       "      <td>261</td>\n",
       "      <td>1</td>\n",
       "      <td>0</td>\n",
       "      <td>0</td>\n",
       "      <td>unknown</td>\n",
       "      <td>no</td>\n",
       "    </tr>\n",
       "    <tr>\n",
       "      <th>1</th>\n",
       "      <td>44</td>\n",
       "      <td>technician</td>\n",
       "      <td>single</td>\n",
       "      <td>secondary</td>\n",
       "      <td>no</td>\n",
       "      <td>29</td>\n",
       "      <td>yes</td>\n",
       "      <td>no</td>\n",
       "      <td>unknown</td>\n",
       "      <td>may</td>\n",
       "      <td>151</td>\n",
       "      <td>1</td>\n",
       "      <td>0</td>\n",
       "      <td>0</td>\n",
       "      <td>unknown</td>\n",
       "      <td>no</td>\n",
       "    </tr>\n",
       "    <tr>\n",
       "      <th>2</th>\n",
       "      <td>33</td>\n",
       "      <td>entrepreneur</td>\n",
       "      <td>married</td>\n",
       "      <td>secondary</td>\n",
       "      <td>no</td>\n",
       "      <td>2</td>\n",
       "      <td>yes</td>\n",
       "      <td>yes</td>\n",
       "      <td>unknown</td>\n",
       "      <td>may</td>\n",
       "      <td>76</td>\n",
       "      <td>1</td>\n",
       "      <td>0</td>\n",
       "      <td>0</td>\n",
       "      <td>unknown</td>\n",
       "      <td>no</td>\n",
       "    </tr>\n",
       "    <tr>\n",
       "      <th>3</th>\n",
       "      <td>47</td>\n",
       "      <td>blue-collar</td>\n",
       "      <td>married</td>\n",
       "      <td>unknown</td>\n",
       "      <td>no</td>\n",
       "      <td>1506</td>\n",
       "      <td>yes</td>\n",
       "      <td>no</td>\n",
       "      <td>unknown</td>\n",
       "      <td>may</td>\n",
       "      <td>92</td>\n",
       "      <td>1</td>\n",
       "      <td>0</td>\n",
       "      <td>0</td>\n",
       "      <td>unknown</td>\n",
       "      <td>no</td>\n",
       "    </tr>\n",
       "    <tr>\n",
       "      <th>4</th>\n",
       "      <td>33</td>\n",
       "      <td>unknown</td>\n",
       "      <td>single</td>\n",
       "      <td>unknown</td>\n",
       "      <td>no</td>\n",
       "      <td>1</td>\n",
       "      <td>no</td>\n",
       "      <td>no</td>\n",
       "      <td>unknown</td>\n",
       "      <td>may</td>\n",
       "      <td>198</td>\n",
       "      <td>1</td>\n",
       "      <td>0</td>\n",
       "      <td>0</td>\n",
       "      <td>unknown</td>\n",
       "      <td>no</td>\n",
       "    </tr>\n",
       "  </tbody>\n",
       "</table>\n",
       "</div>"
      ],
      "text/plain": [
       "   age           job  marital  education default  balance housing loan  \\\n",
       "0   58    management  married   tertiary      no     2143     yes   no   \n",
       "1   44    technician   single  secondary      no       29     yes   no   \n",
       "2   33  entrepreneur  married  secondary      no        2     yes  yes   \n",
       "3   47   blue-collar  married    unknown      no     1506     yes   no   \n",
       "4   33       unknown   single    unknown      no        1      no   no   \n",
       "\n",
       "   contact month  duration  campaign  pdays  previous poutcome Target  \n",
       "0  unknown   may       261         1      0         0  unknown     no  \n",
       "1  unknown   may       151         1      0         0  unknown     no  \n",
       "2  unknown   may        76         1      0         0  unknown     no  \n",
       "3  unknown   may        92         1      0         0  unknown     no  \n",
       "4  unknown   may       198         1      0         0  unknown     no  "
      ]
     },
     "execution_count": 25,
     "metadata": {},
     "output_type": "execute_result"
    }
   ],
   "source": [
    "banking_df.head()"
   ]
  },
  {
   "cell_type": "code",
   "execution_count": 26,
   "metadata": {},
   "outputs": [],
   "source": [
    "# Using Label Encoding for making variable into Categorical Variable\n",
    "banking_df[\"month\"] =  la.fit_transform(banking_df[\"month\"])\n",
    "banking_df[\"education\"] =  la.fit_transform(banking_df[\"education\"])\n",
    "banking_df[\"contact\"] =  la.fit_transform(banking_df[\"contact\"])\n",
    "banking_df[\"marital\"] =  la.fit_transform(banking_df[\"marital\"])\n",
    "banking_df[\"poutcome\"] =  la.fit_transform(banking_df[\"poutcome\"])\n",
    "banking_df[\"job\"] =  la.fit_transform(banking_df[\"job\"])\n",
    "banking_df[\"loan\"] = banking_df[\"loan\"].replace({\"yes\" : 1 , \"no\" : 0})\n",
    "banking_df[\"default\"] = banking_df[\"default\"].replace({\"yes\" : 1 , \"no\" : 0})\n",
    "banking_df[\"housing\"] = banking_df[\"housing\"].replace({\"yes\" : 1 , \"no\" : 0})\n",
    "banking_df[\"Target\"] = banking_df[\"Target\"].replace({\"yes\" : 1 , \"no\" : 0})"
   ]
  },
  {
   "cell_type": "code",
   "execution_count": 27,
   "metadata": {},
   "outputs": [],
   "source": [
    "banking_df = pd.get_dummies(data=banking_df,columns=[\"education\",\"contact\",\"marital\",\"poutcome\",\"job\"])"
   ]
  },
  {
   "cell_type": "code",
   "execution_count": 28,
   "metadata": {},
   "outputs": [
    {
     "data": {
      "text/plain": [
       "-0.024471437667422668"
      ]
     },
     "execution_count": 28,
     "metadata": {},
     "output_type": "execute_result"
    }
   ],
   "source": [
    "banking_df[\"Target\"].corr(banking_df[\"month\"])"
   ]
  },
  {
   "cell_type": "markdown",
   "metadata": {},
   "source": [
    "There are 12 months given in the month column and if we use OneHotEncoder on this column then it will creare 12 new column and as we have seen in above cell the corelation value between Target and Month column is only -0.024 So in order to avoid overfitting of data I am going to drop this month column"
   ]
  },
  {
   "cell_type": "code",
   "execution_count": 29,
   "metadata": {},
   "outputs": [],
   "source": [
    "banking_df.drop(labels=[\"month\"],axis=1,inplace=True)"
   ]
  },
  {
   "cell_type": "markdown",
   "metadata": {},
   "source": [
    "Duration Column have strong effect on overall prediction data. There is 16% increase in recall value of class 1 if we consider duration column for our Logistic Regression(Tested in Logistic Regression)in machine learning . Here we cant get the duration before the call is made. and after the call we can get our desired output about whether person wants to subscribe the term deposit or not.So there is no need for duration column for further machine learning analysis."
   ]
  },
  {
   "cell_type": "code",
   "execution_count": 30,
   "metadata": {},
   "outputs": [],
   "source": [
    "banking_df.drop(labels=[\"duration\"] , axis=1,inplace=True)"
   ]
  },
  {
   "cell_type": "code",
   "execution_count": 31,
   "metadata": {},
   "outputs": [
    {
     "data": {
      "text/html": [
       "<div>\n",
       "<style scoped>\n",
       "    .dataframe tbody tr th:only-of-type {\n",
       "        vertical-align: middle;\n",
       "    }\n",
       "\n",
       "    .dataframe tbody tr th {\n",
       "        vertical-align: top;\n",
       "    }\n",
       "\n",
       "    .dataframe thead th {\n",
       "        text-align: right;\n",
       "    }\n",
       "</style>\n",
       "<table border=\"1\" class=\"dataframe\">\n",
       "  <thead>\n",
       "    <tr style=\"text-align: right;\">\n",
       "      <th></th>\n",
       "      <th>age</th>\n",
       "      <th>default</th>\n",
       "      <th>balance</th>\n",
       "      <th>housing</th>\n",
       "      <th>loan</th>\n",
       "      <th>campaign</th>\n",
       "      <th>pdays</th>\n",
       "      <th>previous</th>\n",
       "      <th>Target</th>\n",
       "      <th>education_0</th>\n",
       "      <th>...</th>\n",
       "      <th>job_2</th>\n",
       "      <th>job_3</th>\n",
       "      <th>job_4</th>\n",
       "      <th>job_5</th>\n",
       "      <th>job_6</th>\n",
       "      <th>job_7</th>\n",
       "      <th>job_8</th>\n",
       "      <th>job_9</th>\n",
       "      <th>job_10</th>\n",
       "      <th>job_11</th>\n",
       "    </tr>\n",
       "  </thead>\n",
       "  <tbody>\n",
       "    <tr>\n",
       "      <th>0</th>\n",
       "      <td>58</td>\n",
       "      <td>0</td>\n",
       "      <td>2143</td>\n",
       "      <td>1</td>\n",
       "      <td>0</td>\n",
       "      <td>1</td>\n",
       "      <td>0</td>\n",
       "      <td>0</td>\n",
       "      <td>0</td>\n",
       "      <td>0</td>\n",
       "      <td>...</td>\n",
       "      <td>0</td>\n",
       "      <td>0</td>\n",
       "      <td>1</td>\n",
       "      <td>0</td>\n",
       "      <td>0</td>\n",
       "      <td>0</td>\n",
       "      <td>0</td>\n",
       "      <td>0</td>\n",
       "      <td>0</td>\n",
       "      <td>0</td>\n",
       "    </tr>\n",
       "    <tr>\n",
       "      <th>1</th>\n",
       "      <td>44</td>\n",
       "      <td>0</td>\n",
       "      <td>29</td>\n",
       "      <td>1</td>\n",
       "      <td>0</td>\n",
       "      <td>1</td>\n",
       "      <td>0</td>\n",
       "      <td>0</td>\n",
       "      <td>0</td>\n",
       "      <td>0</td>\n",
       "      <td>...</td>\n",
       "      <td>0</td>\n",
       "      <td>0</td>\n",
       "      <td>0</td>\n",
       "      <td>0</td>\n",
       "      <td>0</td>\n",
       "      <td>0</td>\n",
       "      <td>0</td>\n",
       "      <td>1</td>\n",
       "      <td>0</td>\n",
       "      <td>0</td>\n",
       "    </tr>\n",
       "  </tbody>\n",
       "</table>\n",
       "<p>2 rows × 35 columns</p>\n",
       "</div>"
      ],
      "text/plain": [
       "   age  default  balance  housing  loan  campaign  pdays  previous  Target  \\\n",
       "0   58        0     2143        1     0         1      0         0       0   \n",
       "1   44        0       29        1     0         1      0         0       0   \n",
       "\n",
       "   education_0   ...    job_2  job_3  job_4  job_5  job_6  job_7  job_8  \\\n",
       "0            0   ...        0      0      1      0      0      0      0   \n",
       "1            0   ...        0      0      0      0      0      0      0   \n",
       "\n",
       "   job_9  job_10  job_11  \n",
       "0      0       0       0  \n",
       "1      1       0       0  \n",
       "\n",
       "[2 rows x 35 columns]"
      ]
     },
     "execution_count": 31,
     "metadata": {},
     "output_type": "execute_result"
    }
   ],
   "source": [
    "banking_df.head(2)"
   ]
  },
  {
   "cell_type": "code",
   "execution_count": 32,
   "metadata": {},
   "outputs": [
    {
     "data": {
      "text/plain": [
       "Index(['age', 'default', 'balance', 'housing', 'loan', 'campaign', 'pdays',\n",
       "       'previous', 'Target', 'education_0', 'education_1', 'education_2',\n",
       "       'education_3', 'contact_0', 'contact_1', 'contact_2', 'marital_0',\n",
       "       'marital_1', 'marital_2', 'poutcome_0', 'poutcome_1', 'poutcome_2',\n",
       "       'poutcome_3', 'job_0', 'job_1', 'job_2', 'job_3', 'job_4', 'job_5',\n",
       "       'job_6', 'job_7', 'job_8', 'job_9', 'job_10', 'job_11'],\n",
       "      dtype='object')"
      ]
     },
     "execution_count": 32,
     "metadata": {},
     "output_type": "execute_result"
    }
   ],
   "source": [
    "banking_df.columns\n",
    "# These are the varibales now we are left with"
   ]
  },
  {
   "cell_type": "markdown",
   "metadata": {},
   "source": [
    "### Making dependent and Independent Variables Separately"
   ]
  },
  {
   "cell_type": "code",
   "execution_count": 33,
   "metadata": {},
   "outputs": [
    {
     "name": "stdout",
     "output_type": "stream",
     "text": [
      "Here X has 45211 No. of records and 34 No. of columns\n",
      "Y has 45211 No. of Records\n"
     ]
    }
   ],
   "source": [
    "feature_varible = banking_df.drop(labels=[\"Target\"],axis=1)\n",
    "feature_varible_z =  feature_varible.apply(zscore)\n",
    "X =  feature_varible_z\n",
    "y = banking_df[\"Target\"]\n",
    "print(\"Here X has {} No. of records and {} No. of columns\".format(X.shape[0],X.shape[1]))\n",
    "print(\"Y has {} No. of Records\".format(y.shape[0]))"
   ]
  },
  {
   "cell_type": "markdown",
   "metadata": {},
   "source": [
    "Here X represents the all independent columns and y represents Target column"
   ]
  },
  {
   "cell_type": "markdown",
   "metadata": {},
   "source": [
    "## Train Test Split"
   ]
  },
  {
   "cell_type": "code",
   "execution_count": 34,
   "metadata": {},
   "outputs": [],
   "source": [
    "from sklearn.model_selection import train_test_split"
   ]
  },
  {
   "cell_type": "code",
   "execution_count": 35,
   "metadata": {},
   "outputs": [],
   "source": [
    "X_train , X_test , y_train , y_test = train_test_split(X,y,test_size =0.30,random_state = 101)"
   ]
  },
  {
   "cell_type": "code",
   "execution_count": 36,
   "metadata": {},
   "outputs": [
    {
     "name": "stdout",
     "output_type": "stream",
     "text": [
      "No. of Records in training data set is 31647\n",
      "No. of Records in test data set is 13564\n"
     ]
    }
   ],
   "source": [
    "print(\"No. of Records in training data set is\" , X_train.shape[0])\n",
    "print(\"No. of Records in test data set is\" , X_test.shape[0])"
   ]
  },
  {
   "cell_type": "code",
   "execution_count": 37,
   "metadata": {},
   "outputs": [
    {
     "name": "stdout",
     "output_type": "stream",
     "text": [
      "Total records in y_train with class 1 :   3692\n"
     ]
    }
   ],
   "source": [
    "print(\"Total records in y_train with class 1 :  \" , y_train[y_train==1].count())\n",
    "# THis is 70% of the Total No. of records with class 1  in Target Column"
   ]
  },
  {
   "cell_type": "code",
   "execution_count": 38,
   "metadata": {},
   "outputs": [
    {
     "name": "stdout",
     "output_type": "stream",
     "text": [
      "Total records in y_test with class 1 :   1597\n"
     ]
    }
   ],
   "source": [
    "print(\"Total records in y_test with class 1 :  \" , y_test[y_test==1].count())\n",
    "# THis is 30% of the Total No. of records with class 1  in Target Column"
   ]
  },
  {
   "cell_type": "markdown",
   "metadata": {},
   "source": [
    "## Machine Learning"
   ]
  },
  {
   "cell_type": "markdown",
   "metadata": {},
   "source": [
    "### 1. Logistic Regression"
   ]
  },
  {
   "cell_type": "markdown",
   "metadata": {},
   "source": [
    "#### In Logistic Regression we can create a model to get the probability of a customer whether customer will subscribe to term deposit or not"
   ]
  },
  {
   "cell_type": "code",
   "execution_count": 39,
   "metadata": {},
   "outputs": [],
   "source": [
    "from sklearn.linear_model import LogisticRegression"
   ]
  },
  {
   "cell_type": "code",
   "execution_count": 40,
   "metadata": {},
   "outputs": [
    {
     "data": {
      "text/plain": [
       "LogisticRegression(C=1.0, class_weight=None, dual=False, fit_intercept=True,\n",
       "          intercept_scaling=1, max_iter=100, multi_class='warn',\n",
       "          n_jobs=None, penalty='l2', random_state=None, solver='liblinear',\n",
       "          tol=0.0001, verbose=0, warm_start=False)"
      ]
     },
     "execution_count": 40,
     "metadata": {},
     "output_type": "execute_result"
    }
   ],
   "source": [
    "logistic_model = LogisticRegression(solver=\"liblinear\")\n",
    "logistic_model.fit(X_train,y_train)"
   ]
  },
  {
   "cell_type": "code",
   "execution_count": 41,
   "metadata": {},
   "outputs": [
    {
     "name": "stdout",
     "output_type": "stream",
     "text": [
      "0.8942052491890298\n"
     ]
    }
   ],
   "source": [
    "y_prediction = logistic_model.predict(X_test)\n",
    "print(logistic_model.score(X_test,y_test))"
   ]
  },
  {
   "cell_type": "markdown",
   "metadata": {},
   "source": [
    "It is showing that 89.42% of the total test record maches with the actual data . In other words our model is 89.42% accurate"
   ]
  },
  {
   "cell_type": "code",
   "execution_count": 42,
   "metadata": {},
   "outputs": [
    {
     "data": {
      "text/html": [
       "<div>\n",
       "<style scoped>\n",
       "    .dataframe tbody tr th:only-of-type {\n",
       "        vertical-align: middle;\n",
       "    }\n",
       "\n",
       "    .dataframe tbody tr th {\n",
       "        vertical-align: top;\n",
       "    }\n",
       "\n",
       "    .dataframe thead th {\n",
       "        text-align: right;\n",
       "    }\n",
       "</style>\n",
       "<table border=\"1\" class=\"dataframe\">\n",
       "  <thead>\n",
       "    <tr style=\"text-align: right;\">\n",
       "      <th></th>\n",
       "      <th>Predicted_0</th>\n",
       "      <th>Predicted_1</th>\n",
       "    </tr>\n",
       "  </thead>\n",
       "  <tbody>\n",
       "    <tr>\n",
       "      <th>Actual_0</th>\n",
       "      <td>11830</td>\n",
       "      <td>137</td>\n",
       "    </tr>\n",
       "    <tr>\n",
       "      <th>Actual_1</th>\n",
       "      <td>1298</td>\n",
       "      <td>299</td>\n",
       "    </tr>\n",
       "  </tbody>\n",
       "</table>\n",
       "</div>"
      ],
      "text/plain": [
       "          Predicted_0  Predicted_1\n",
       "Actual_0        11830          137\n",
       "Actual_1         1298          299"
      ]
     },
     "execution_count": 42,
     "metadata": {},
     "output_type": "execute_result"
    }
   ],
   "source": [
    "# Confusion Matrix\n",
    "pd.DataFrame(data =metrics.confusion_matrix(y_test,y_prediction),columns=[\"Predicted_0\",\"Predicted_1\"],index=[\"Actual_0\",\"Actual_1\"])"
   ]
  },
  {
   "cell_type": "markdown",
   "metadata": {},
   "source": [
    "In the above Confustion Matrix rows are representing Actuals and Columns are representing predicted with 0 and 1 . Here Total No. of Customers who did not subscribe for term deposit and is correctly predicted by the model is 11830 but those customers who did not subscribe for term deposit and not correctly predicted by the model is 137. In the same way those customers who actally subscribed for term deposit and correctly predicted by the model is 299 and those who subscribed for term deposit but incorrectly predicted by the model is 1298."
   ]
  },
  {
   "cell_type": "code",
   "execution_count": 43,
   "metadata": {},
   "outputs": [
    {
     "name": "stdout",
     "output_type": "stream",
     "text": [
      "              precision    recall  f1-score   support\n",
      "\n",
      "           0       0.90      0.99      0.94     11967\n",
      "           1       0.69      0.19      0.29      1597\n",
      "\n",
      "   micro avg       0.89      0.89      0.89     13564\n",
      "   macro avg       0.79      0.59      0.62     13564\n",
      "weighted avg       0.88      0.89      0.87     13564\n",
      "\n"
     ]
    }
   ],
   "source": [
    "print(metrics.classification_report(y_test,y_prediction))"
   ]
  },
  {
   "cell_type": "raw",
   "metadata": {},
   "source": [
    "Accuracy shows Correctly predicted observation out of Total Observation. \n",
    "Recall/Sensitivity shows Percentage of correctly predicted positive observations to the all actual observations of that class Precision shows the Percentage of correctly predicted positive observations to the total predicted observations of that class F1 Score is the weighted average of Precision and Recall. \n",
    "Here Recall Percentage is 99 for class 0 but for class 1 it is just 19% which is very low"
   ]
  },
  {
   "cell_type": "markdown",
   "metadata": {},
   "source": [
    "Calculating average score by Taking 10 different types of combination of training and test set fron the same data"
   ]
  },
  {
   "cell_type": "code",
   "execution_count": 44,
   "metadata": {},
   "outputs": [
    {
     "name": "stdout",
     "output_type": "stream",
     "text": [
      "Accuracy scores of Logistic model on 10 iteration [0.8946475965791801, 0.8952373930993807, 0.894426422884105, 0.8958271896195813, 0.8937629017988794, 0.8963432615747567, 0.8927307578885284, 0.8926570333235034, 0.8886021822471247, 0.8936154526688292]\n",
      "Average Accuracy Score of Logistic model 89.38%\n"
     ]
    }
   ],
   "source": [
    "scores = []\n",
    "for i in np.arange(10):\n",
    "    X_train,X_test,y_train,y_test =  train_test_split(X,y,test_size = 0.30)\n",
    "    logistic_model.fit(X_train,y_train)\n",
    "    scores.append(logistic_model.score(X_test,y_test))\n",
    "print(\"Accuracy scores of Logistic model on 10 iteration\" ,scores)\n",
    "print(\"Average Accuracy Score of Logistic model {0:.2f}%\".format(np.average(scores)*100))"
   ]
  },
  {
   "cell_type": "markdown",
   "metadata": {},
   "source": [
    "### Naive Bayes"
   ]
  },
  {
   "cell_type": "markdown",
   "metadata": {},
   "source": [
    "#### Naive Bayes Assumes that the features in this data are independent of each other It works on the conditional Probability that something will happen when something has already occured"
   ]
  },
  {
   "cell_type": "code",
   "execution_count": 45,
   "metadata": {},
   "outputs": [],
   "source": [
    "from sklearn.naive_bayes import GaussianNB"
   ]
  },
  {
   "cell_type": "code",
   "execution_count": 46,
   "metadata": {},
   "outputs": [
    {
     "data": {
      "text/plain": [
       "0.7985107637864937"
      ]
     },
     "execution_count": 46,
     "metadata": {},
     "output_type": "execute_result"
    }
   ],
   "source": [
    "naive_bayes_model = GaussianNB()\n",
    "X_train,X_test,y_train,y_test = train_test_split(X,y,test_size = 0.30,random_state = 101)\n",
    "naive_bayes_model.fit(X_train,y_train)\n",
    "y_prediction = naive_bayes_model.predict(X_test)\n",
    "naive_bayes_model.score(X_test,y_test)"
   ]
  },
  {
   "cell_type": "markdown",
   "metadata": {},
   "source": [
    "This model shows accuracy only 79.85 % means our model is only 79.85 % accurate which is not a sign of good predictive model"
   ]
  },
  {
   "cell_type": "code",
   "execution_count": 47,
   "metadata": {},
   "outputs": [
    {
     "data": {
      "text/html": [
       "<div>\n",
       "<style scoped>\n",
       "    .dataframe tbody tr th:only-of-type {\n",
       "        vertical-align: middle;\n",
       "    }\n",
       "\n",
       "    .dataframe tbody tr th {\n",
       "        vertical-align: top;\n",
       "    }\n",
       "\n",
       "    .dataframe thead th {\n",
       "        text-align: right;\n",
       "    }\n",
       "</style>\n",
       "<table border=\"1\" class=\"dataframe\">\n",
       "  <thead>\n",
       "    <tr style=\"text-align: right;\">\n",
       "      <th></th>\n",
       "      <th>Predicted_0</th>\n",
       "      <th>Predicted_1</th>\n",
       "    </tr>\n",
       "  </thead>\n",
       "  <tbody>\n",
       "    <tr>\n",
       "      <th>Actual_0</th>\n",
       "      <td>10151</td>\n",
       "      <td>1816</td>\n",
       "    </tr>\n",
       "    <tr>\n",
       "      <th>Actual_1</th>\n",
       "      <td>917</td>\n",
       "      <td>680</td>\n",
       "    </tr>\n",
       "  </tbody>\n",
       "</table>\n",
       "</div>"
      ],
      "text/plain": [
       "          Predicted_0  Predicted_1\n",
       "Actual_0        10151         1816\n",
       "Actual_1          917          680"
      ]
     },
     "execution_count": 47,
     "metadata": {},
     "output_type": "execute_result"
    }
   ],
   "source": [
    "# Confusion Matrix\n",
    "pd.DataFrame(data =metrics.confusion_matrix(y_test,y_prediction),columns=[\"Predicted_0\",\"Predicted_1\"],index=[\"Actual_0\",\"Actual_1\"])"
   ]
  },
  {
   "cell_type": "markdown",
   "metadata": {},
   "source": [
    "In the above Confustion Matrix rows are representing Actuals and Columns are representing predicted with 0 and 1 . Here Total No. of Customers who did not subscribe for term deposit and is correctly predicted by the model is 10151 but those customers who did not subscribe for term deposit and not correctly predicted by the model is 1816. In the same way those customers who actally subscribed for term deposit and correctly predicted by the model is 680 and those who subscribed for term deposit but incorrectly predicted by the model is 917."
   ]
  },
  {
   "cell_type": "code",
   "execution_count": 48,
   "metadata": {},
   "outputs": [
    {
     "name": "stdout",
     "output_type": "stream",
     "text": [
      "              precision    recall  f1-score   support\n",
      "\n",
      "           0       0.92      0.85      0.88     11967\n",
      "           1       0.27      0.43      0.33      1597\n",
      "\n",
      "   micro avg       0.80      0.80      0.80     13564\n",
      "   macro avg       0.59      0.64      0.61     13564\n",
      "weighted avg       0.84      0.80      0.82     13564\n",
      "\n"
     ]
    }
   ],
   "source": [
    "print(metrics.classification_report(y_test,y_prediction))"
   ]
  },
  {
   "cell_type": "raw",
   "metadata": {},
   "source": [
    "Accuracy shows Correctly predicted observation out of Total Observation. \n",
    "Recall/Sensitivity shows Percentage of correctly predicted positive observations to the all actual observations of that class Precision shows the Percentage of correctly predicted positive observations to the total predicted observations of that class F1 Score is the weighted average of Precision and Recall. \n",
    "Here Recall Percentage is 85 for class 0 but for class 1 it is 43 which is again low but its recall value is better than Logistic regression"
   ]
  },
  {
   "cell_type": "markdown",
   "metadata": {},
   "source": [
    "<b>Calculating average score by Taking 10 different types of combination of training and test set fron the same data</b>"
   ]
  },
  {
   "cell_type": "code",
   "execution_count": 49,
   "metadata": {},
   "outputs": [
    {
     "name": "stdout",
     "output_type": "stream",
     "text": [
      "Accuracy scores of Naive Bayes model on 10 iteration [0.8045561781185491, 0.7985844883515187, 0.7961515777056916, 0.79991153052197, 0.7978472427012681, 0.7975523444411678, 0.7987319374815689, 0.8017546446475966, 0.7965939250958419, 0.8006487761722206]\n",
      "Average Accuracy Score ofNaive Bayes Model 79.92%\n"
     ]
    }
   ],
   "source": [
    "scores = []\n",
    "for i in np.arange(10):\n",
    "    X_train,X_test,y_train,y_test = train_test_split(X,y,test_size = 0.30)\n",
    "    naive_bayes_model.fit(X_train,y_train)\n",
    "    scores.append(naive_bayes_model.score(X_test,y_test))\n",
    "print(\"Accuracy scores of Naive Bayes model on 10 iteration\" ,scores)\n",
    "print(\"Average Accuracy Score ofNaive Bayes Model {0:.2f}%\".format(np.average(scores)*100))"
   ]
  },
  {
   "cell_type": "markdown",
   "metadata": {},
   "source": [
    "### K-Nearest Neighbors"
   ]
  },
  {
   "cell_type": "markdown",
   "metadata": {},
   "source": [
    "K- Nearest Neighbors can be used for classification as well as regression. It is an instance based method for predicting class or value of given query. In this algorithm classification is computed from a simple majority vote of the nearest neighbors of each point. New data point is assigned to a class which has the most data points in the nearest neighbors."
   ]
  },
  {
   "cell_type": "code",
   "execution_count": 50,
   "metadata": {},
   "outputs": [],
   "source": [
    "from sklearn.neighbors import KNeighborsClassifier"
   ]
  },
  {
   "cell_type": "code",
   "execution_count": 51,
   "metadata": {},
   "outputs": [
    {
     "data": {
      "text/plain": [
       "0.8737835446770864"
      ]
     },
     "execution_count": 51,
     "metadata": {},
     "output_type": "execute_result"
    }
   ],
   "source": [
    "nearest_neighbors_model = KNeighborsClassifier(n_neighbors=5,weights=\"distance\")\n",
    "X_train,X_test , y_train,y_test = train_test_split(X,y,test_size = 0.30,random_state = 101)\n",
    "nearest_neighbors_model.fit(X_train,y_train)\n",
    "y_prediction = nearest_neighbors_model.predict(X_test)\n",
    "nearest_neighbors_model.score(X_test,y_test)"
   ]
  },
  {
   "cell_type": "markdown",
   "metadata": {},
   "source": [
    "Here our model is showing 87.38% accuracy in prediction"
   ]
  },
  {
   "cell_type": "code",
   "execution_count": 52,
   "metadata": {},
   "outputs": [
    {
     "data": {
      "text/html": [
       "<div>\n",
       "<style scoped>\n",
       "    .dataframe tbody tr th:only-of-type {\n",
       "        vertical-align: middle;\n",
       "    }\n",
       "\n",
       "    .dataframe tbody tr th {\n",
       "        vertical-align: top;\n",
       "    }\n",
       "\n",
       "    .dataframe thead th {\n",
       "        text-align: right;\n",
       "    }\n",
       "</style>\n",
       "<table border=\"1\" class=\"dataframe\">\n",
       "  <thead>\n",
       "    <tr style=\"text-align: right;\">\n",
       "      <th></th>\n",
       "      <th>Predicted_0</th>\n",
       "      <th>Predicted_1</th>\n",
       "    </tr>\n",
       "  </thead>\n",
       "  <tbody>\n",
       "    <tr>\n",
       "      <th>Actual_0</th>\n",
       "      <td>11490</td>\n",
       "      <td>477</td>\n",
       "    </tr>\n",
       "    <tr>\n",
       "      <th>Actual_1</th>\n",
       "      <td>1235</td>\n",
       "      <td>362</td>\n",
       "    </tr>\n",
       "  </tbody>\n",
       "</table>\n",
       "</div>"
      ],
      "text/plain": [
       "          Predicted_0  Predicted_1\n",
       "Actual_0        11490          477\n",
       "Actual_1         1235          362"
      ]
     },
     "execution_count": 52,
     "metadata": {},
     "output_type": "execute_result"
    }
   ],
   "source": [
    "# Confusion Matrix\n",
    "pd.DataFrame(data =metrics.confusion_matrix(y_test,y_prediction),columns=[\"Predicted_0\",\"Predicted_1\"],index=[\"Actual_0\",\"Actual_1\"])"
   ]
  },
  {
   "cell_type": "markdown",
   "metadata": {},
   "source": [
    "In the above Confustion Matrix rows are representing Actuals and Columns are representing predicted with 0 and 1 . Here Total No. of Customers who did not subscribe for term deposit and is correctly predicted by the model is 11490 but those customers who did not subscribe for term deposit and not correctly predicted by the model is 477. In the same way those customers who actally subscribed for term deposit and correctly predicted by the model is 362 and those who subscribed for term deposit but incorrectly predicted by the model is 1235."
   ]
  },
  {
   "cell_type": "code",
   "execution_count": 53,
   "metadata": {},
   "outputs": [
    {
     "name": "stdout",
     "output_type": "stream",
     "text": [
      "              precision    recall  f1-score   support\n",
      "\n",
      "           0       0.90      0.96      0.93     11967\n",
      "           1       0.43      0.23      0.30      1597\n",
      "\n",
      "   micro avg       0.87      0.87      0.87     13564\n",
      "   macro avg       0.67      0.59      0.61     13564\n",
      "weighted avg       0.85      0.87      0.86     13564\n",
      "\n"
     ]
    }
   ],
   "source": [
    "print(metrics.classification_report(y_test,y_prediction))"
   ]
  },
  {
   "cell_type": "raw",
   "metadata": {},
   "source": [
    "Accuracy shows Correctly predicted observation out of Total Observation. \n",
    "Recall/Sensitivity shows Percentage of correctly predicted positive observations to the all actual observations of that class Precision shows the Percentage of correctly predicted positive observations to the total predicted observations of that class F1 Score is the weighted average of Precision and Recall. \n",
    "Here Recall Percentage is 96 for class 0 but for class 1 it is 23 which is very low for a good predictive Model"
   ]
  },
  {
   "cell_type": "markdown",
   "metadata": {},
   "source": [
    "### Support Vector Machine"
   ]
  },
  {
   "cell_type": "markdown",
   "metadata": {},
   "source": [
    "Support Vector Machine algorithm used for both classification as well as regression. It uses technique called the kernel trick to transform your data and then based on these transformations it finds an optimal boundary between the possible outputs."
   ]
  },
  {
   "cell_type": "code",
   "execution_count": 54,
   "metadata": {},
   "outputs": [],
   "source": [
    "from sklearn.svm import SVC"
   ]
  },
  {
   "cell_type": "code",
   "execution_count": 55,
   "metadata": {},
   "outputs": [
    {
     "name": "stderr",
     "output_type": "stream",
     "text": [
      "C:\\Users\\aman-pc\\Anaconda3\\lib\\site-packages\\sklearn\\svm\\base.py:196: FutureWarning: The default value of gamma will change from 'auto' to 'scale' in version 0.22 to account better for unscaled features. Set gamma explicitly to 'auto' or 'scale' to avoid this warning.\n",
      "  \"avoid this warning.\", FutureWarning)\n"
     ]
    },
    {
     "data": {
      "text/plain": [
       "0.8924358596284282"
      ]
     },
     "execution_count": 55,
     "metadata": {},
     "output_type": "execute_result"
    }
   ],
   "source": [
    "svc_model =  SVC(kernel=\"rbf\")\n",
    "X_train,X_test , y_train,y_test = train_test_split(X,y,test_size = 0.30,random_state = 101)\n",
    "svc_model.fit(X_train,y_train)\n",
    "y_prediction =  svc_model.predict(X_test)\n",
    "svc_model.score(X_test,y_test)"
   ]
  },
  {
   "cell_type": "markdown",
   "metadata": {},
   "source": [
    "This Model Shows 89.24 % Accuracy"
   ]
  },
  {
   "cell_type": "code",
   "execution_count": 56,
   "metadata": {},
   "outputs": [
    {
     "data": {
      "text/html": [
       "<div>\n",
       "<style scoped>\n",
       "    .dataframe tbody tr th:only-of-type {\n",
       "        vertical-align: middle;\n",
       "    }\n",
       "\n",
       "    .dataframe tbody tr th {\n",
       "        vertical-align: top;\n",
       "    }\n",
       "\n",
       "    .dataframe thead th {\n",
       "        text-align: right;\n",
       "    }\n",
       "</style>\n",
       "<table border=\"1\" class=\"dataframe\">\n",
       "  <thead>\n",
       "    <tr style=\"text-align: right;\">\n",
       "      <th></th>\n",
       "      <th>Predicted_0</th>\n",
       "      <th>Predicted_1</th>\n",
       "    </tr>\n",
       "  </thead>\n",
       "  <tbody>\n",
       "    <tr>\n",
       "      <th>Actual_0</th>\n",
       "      <td>11798</td>\n",
       "      <td>169</td>\n",
       "    </tr>\n",
       "    <tr>\n",
       "      <th>Actual_1</th>\n",
       "      <td>1290</td>\n",
       "      <td>307</td>\n",
       "    </tr>\n",
       "  </tbody>\n",
       "</table>\n",
       "</div>"
      ],
      "text/plain": [
       "          Predicted_0  Predicted_1\n",
       "Actual_0        11798          169\n",
       "Actual_1         1290          307"
      ]
     },
     "execution_count": 56,
     "metadata": {},
     "output_type": "execute_result"
    }
   ],
   "source": [
    "# Confusion Matrix\n",
    "pd.DataFrame(data =metrics.confusion_matrix(y_test,y_prediction),columns=[\"Predicted_0\",\"Predicted_1\"],index=[\"Actual_0\",\"Actual_1\"])"
   ]
  },
  {
   "cell_type": "markdown",
   "metadata": {},
   "source": [
    "In the above Confustion Matrix rows are representing Actuals and Columns are representing predicted with 0 and 1 . Here Total No. of Customers who did not subscribe for term deposit and is correctly predicted by the model is 11798 but those customers who did not subscribe for term deposit and not correctly predicted by the model is 169. In the same way those customers who actally subscribed for term deposit and correctly predicted by the model is 307 and those who subscribed for term deposit but incorrectly predicted by the model is 1290."
   ]
  },
  {
   "cell_type": "code",
   "execution_count": 57,
   "metadata": {},
   "outputs": [
    {
     "name": "stdout",
     "output_type": "stream",
     "text": [
      "              precision    recall  f1-score   support\n",
      "\n",
      "           0       0.90      0.99      0.94     11967\n",
      "           1       0.64      0.19      0.30      1597\n",
      "\n",
      "   micro avg       0.89      0.89      0.89     13564\n",
      "   macro avg       0.77      0.59      0.62     13564\n",
      "weighted avg       0.87      0.89      0.87     13564\n",
      "\n"
     ]
    }
   ],
   "source": [
    "print(metrics.classification_report(y_test,y_prediction))"
   ]
  },
  {
   "cell_type": "raw",
   "metadata": {},
   "source": [
    "Accuracy shows Correctly predicted observation out of Total Observation.\n",
    "Recall/Sensitivity shows Percentage of correctly predicted positive observations to the all actual observations of that class Precision shows the Percentage of correctly predicted positive observations to the total predicted observations of that class F1 Score is the weighted average of Precision and Recall. Here Recall Percentage is almost 99% for class 0 but for class 1 it is 19% which is very low."
   ]
  },
  {
   "cell_type": "markdown",
   "metadata": {},
   "source": [
    "## Decision Tree"
   ]
  },
  {
   "cell_type": "markdown",
   "metadata": {},
   "source": [
    "<b>Tree based learning algorithms are considered to be one of the best and mostly used supervised learning methods. Tree based methods empower predictive models with high accuracy, stability and ease of interpretation. </b>"
   ]
  },
  {
   "cell_type": "code",
   "execution_count": 58,
   "metadata": {},
   "outputs": [],
   "source": [
    "from sklearn.tree import DecisionTreeClassifier"
   ]
  },
  {
   "cell_type": "code",
   "execution_count": 59,
   "metadata": {},
   "outputs": [
    {
     "data": {
      "text/plain": [
       "DecisionTreeClassifier(class_weight=None, criterion='entropy', max_depth=None,\n",
       "            max_features=None, max_leaf_nodes=None,\n",
       "            min_impurity_decrease=0.0, min_impurity_split=None,\n",
       "            min_samples_leaf=1, min_samples_split=2,\n",
       "            min_weight_fraction_leaf=0.0, presort=False, random_state=101,\n",
       "            splitter='best')"
      ]
     },
     "execution_count": 59,
     "metadata": {},
     "output_type": "execute_result"
    }
   ],
   "source": [
    "X_train , X_test , y_train,y_test  = train_test_split(X,y,test_size = 0.30 , random_state = 101)\n",
    "decision_tree_model =  DecisionTreeClassifier(criterion=\"entropy\",random_state=101)\n",
    "decision_tree_model.fit(X_train,y_train)"
   ]
  },
  {
   "cell_type": "code",
   "execution_count": 60,
   "metadata": {},
   "outputs": [
    {
     "name": "stdout",
     "output_type": "stream",
     "text": [
      "Decision Tree Model test on Training set  0.9995892185673207\n",
      "Decision Tree Model test on Test set  0.82217634915954\n"
     ]
    }
   ],
   "source": [
    "y_prediction =  decision_tree_model.predict(X_test)\n",
    "print(\"Decision Tree Model test on Training set \" ,decision_tree_model.score(X_train,y_train))\n",
    "print(\"Decision Tree Model test on Test set \", decision_tree_model.score(X_test,y_test))"
   ]
  },
  {
   "cell_type": "markdown",
   "metadata": {},
   "source": [
    "Here Decision Tree model is showing 100% accuracy on training data but showing only 82% accuracy on test data. The reason is the overfitting of the data in the model. "
   ]
  },
  {
   "cell_type": "code",
   "execution_count": 61,
   "metadata": {},
   "outputs": [
    {
     "data": {
      "text/html": [
       "<div>\n",
       "<style scoped>\n",
       "    .dataframe tbody tr th:only-of-type {\n",
       "        vertical-align: middle;\n",
       "    }\n",
       "\n",
       "    .dataframe tbody tr th {\n",
       "        vertical-align: top;\n",
       "    }\n",
       "\n",
       "    .dataframe thead th {\n",
       "        text-align: right;\n",
       "    }\n",
       "</style>\n",
       "<table border=\"1\" class=\"dataframe\">\n",
       "  <thead>\n",
       "    <tr style=\"text-align: right;\">\n",
       "      <th></th>\n",
       "      <th>Predicted_0</th>\n",
       "      <th>Predicted_1</th>\n",
       "    </tr>\n",
       "  </thead>\n",
       "  <tbody>\n",
       "    <tr>\n",
       "      <th>Actual_0</th>\n",
       "      <td>10676</td>\n",
       "      <td>1291</td>\n",
       "    </tr>\n",
       "    <tr>\n",
       "      <th>Actual_1</th>\n",
       "      <td>1121</td>\n",
       "      <td>476</td>\n",
       "    </tr>\n",
       "  </tbody>\n",
       "</table>\n",
       "</div>"
      ],
      "text/plain": [
       "          Predicted_0  Predicted_1\n",
       "Actual_0        10676         1291\n",
       "Actual_1         1121          476"
      ]
     },
     "execution_count": 61,
     "metadata": {},
     "output_type": "execute_result"
    }
   ],
   "source": [
    "# Confusion Matrix\n",
    "pd.DataFrame(data =metrics.confusion_matrix(y_test,y_prediction),columns=[\"Predicted_0\",\"Predicted_1\"],index=[\"Actual_0\",\"Actual_1\"])"
   ]
  },
  {
   "cell_type": "markdown",
   "metadata": {},
   "source": [
    "In the above Confustion Matrix rows are representing Actuals and Columns are representing predicted with 0 and 1 . Here Total No. of Customers who did not subscribe for term deposit and is correctly predicted by the model is 10676 but those customers who did not subscribe for term deposit and not correctly predicted by the model is 1291. In the same way those customers who actally subscribed for term deposit and correctly predicted by the model is 476 and those who subscribed for term deposit but incorrectly predicted by the model is 1121."
   ]
  },
  {
   "cell_type": "code",
   "execution_count": 62,
   "metadata": {},
   "outputs": [
    {
     "name": "stdout",
     "output_type": "stream",
     "text": [
      "              precision    recall  f1-score   support\n",
      "\n",
      "           0       0.90      0.89      0.90     11967\n",
      "           1       0.27      0.30      0.28      1597\n",
      "\n",
      "   micro avg       0.82      0.82      0.82     13564\n",
      "   macro avg       0.59      0.60      0.59     13564\n",
      "weighted avg       0.83      0.82      0.83     13564\n",
      "\n"
     ]
    }
   ],
   "source": [
    "print(metrics.classification_report(y_test,y_prediction))"
   ]
  },
  {
   "cell_type": "markdown",
   "metadata": {},
   "source": [
    "Here Recall Value is 89% in case of class 0 but only 30% in the case of class 1 which is not a good indicator of model. Now because our data have 45211 rows and 34 columns and if we go without regularization it will actually generate a big tree which will generate 100% accuracy on training set but very less accuracy on test set due to the overfitting of data. Lets draw the decision tree with some regularization"
   ]
  },
  {
   "cell_type": "markdown",
   "metadata": {},
   "source": [
    "## Decision Tree (With Regularization)"
   ]
  },
  {
   "cell_type": "code",
   "execution_count": 63,
   "metadata": {},
   "outputs": [
    {
     "data": {
      "text/plain": [
       "DecisionTreeClassifier(class_weight=None, criterion='entropy', max_depth=15,\n",
       "            max_features=None, max_leaf_nodes=None,\n",
       "            min_impurity_decrease=0.0, min_impurity_split=None,\n",
       "            min_samples_leaf=1, min_samples_split=2,\n",
       "            min_weight_fraction_leaf=0.0, presort=False, random_state=101,\n",
       "            splitter='best')"
      ]
     },
     "execution_count": 63,
     "metadata": {},
     "output_type": "execute_result"
    }
   ],
   "source": [
    "X_train , X_test , y_train,y_test  = train_test_split(X,y,test_size = 0.30 , random_state = 101)\n",
    "decision_tree_model =  DecisionTreeClassifier(criterion=\"entropy\",random_state=101,max_depth=15)\n",
    "decision_tree_model.fit(X_train,y_train)"
   ]
  },
  {
   "cell_type": "code",
   "execution_count": 64,
   "metadata": {},
   "outputs": [
    {
     "name": "stdout",
     "output_type": "stream",
     "text": [
      "Decision Tree Model test on Training set  0.9198976206275477\n",
      "Decision Tree Model test on Test set  0.876658802713064\n"
     ]
    }
   ],
   "source": [
    "y_prediction =  decision_tree_model.predict(X_test)\n",
    "print(\"Decision Tree Model test on Training set \" ,decision_tree_model.score(X_train,y_train))\n",
    "print(\"Decision Tree Model test on Test set \", decision_tree_model.score(X_test,y_test))"
   ]
  },
  {
   "cell_type": "markdown",
   "metadata": {},
   "source": [
    "Here our model is predicting 92% accuracy in Training set and 87% acuracy in test set. Accuracy in test set is better from previous model.lets check its confusion matrix and classification report"
   ]
  },
  {
   "cell_type": "code",
   "execution_count": 65,
   "metadata": {},
   "outputs": [
    {
     "data": {
      "text/html": [
       "<div>\n",
       "<style scoped>\n",
       "    .dataframe tbody tr th:only-of-type {\n",
       "        vertical-align: middle;\n",
       "    }\n",
       "\n",
       "    .dataframe tbody tr th {\n",
       "        vertical-align: top;\n",
       "    }\n",
       "\n",
       "    .dataframe thead th {\n",
       "        text-align: right;\n",
       "    }\n",
       "</style>\n",
       "<table border=\"1\" class=\"dataframe\">\n",
       "  <thead>\n",
       "    <tr style=\"text-align: right;\">\n",
       "      <th></th>\n",
       "      <th>Predicted_0</th>\n",
       "      <th>Predicted_1</th>\n",
       "    </tr>\n",
       "  </thead>\n",
       "  <tbody>\n",
       "    <tr>\n",
       "      <th>Actual_0</th>\n",
       "      <td>11597</td>\n",
       "      <td>370</td>\n",
       "    </tr>\n",
       "    <tr>\n",
       "      <th>Actual_1</th>\n",
       "      <td>1303</td>\n",
       "      <td>294</td>\n",
       "    </tr>\n",
       "  </tbody>\n",
       "</table>\n",
       "</div>"
      ],
      "text/plain": [
       "          Predicted_0  Predicted_1\n",
       "Actual_0        11597          370\n",
       "Actual_1         1303          294"
      ]
     },
     "execution_count": 65,
     "metadata": {},
     "output_type": "execute_result"
    }
   ],
   "source": [
    "# Confusion Matrix\n",
    "pd.DataFrame(data =metrics.confusion_matrix(y_test,y_prediction),columns=[\"Predicted_0\",\"Predicted_1\"],index=[\"Actual_0\",\"Actual_1\"])"
   ]
  },
  {
   "cell_type": "markdown",
   "metadata": {},
   "source": [
    "In the above Confustion Matrix rows are representing Actuals and Columns are representing predicted with 0 and 1 . Here Total No. of Customers who did not subscribe for term deposit and is correctly predicted by the model is 11597 but those customers who did not subscribe for term deposit and not correctly predicted by the model is 370. In the same way those customers who actally subscribed for term deposit and correctly predicted by the model is only 294 and those who subscribed for term deposit but incorrectly predicted by the model is 1303."
   ]
  },
  {
   "cell_type": "code",
   "execution_count": 66,
   "metadata": {},
   "outputs": [
    {
     "name": "stdout",
     "output_type": "stream",
     "text": [
      "              precision    recall  f1-score   support\n",
      "\n",
      "           0       0.90      0.97      0.93     11967\n",
      "           1       0.44      0.18      0.26      1597\n",
      "\n",
      "   micro avg       0.88      0.88      0.88     13564\n",
      "   macro avg       0.67      0.58      0.60     13564\n",
      "weighted avg       0.85      0.88      0.85     13564\n",
      "\n"
     ]
    }
   ],
   "source": [
    "print(metrics.classification_report(y_test,y_prediction))"
   ]
  },
  {
   "cell_type": "markdown",
   "metadata": {},
   "source": [
    "<b>Although overall score has improved from last decison tree model but Recall value for class 1 has dropped from 30% to 18%. So in this case we must add some more regularisation in this tree</b>"
   ]
  },
  {
   "cell_type": "code",
   "execution_count": 67,
   "metadata": {},
   "outputs": [
    {
     "data": {
      "text/plain": [
       "DecisionTreeClassifier(class_weight=None, criterion='entropy', max_depth=15,\n",
       "            max_features=10, max_leaf_nodes=None,\n",
       "            min_impurity_decrease=0.0, min_impurity_split=None,\n",
       "            min_samples_leaf=1, min_samples_split=2,\n",
       "            min_weight_fraction_leaf=0.0, presort=False, random_state=101,\n",
       "            splitter='best')"
      ]
     },
     "execution_count": 67,
     "metadata": {},
     "output_type": "execute_result"
    }
   ],
   "source": [
    "X_train , X_test , y_train,y_test  = train_test_split(X,y,test_size = 0.30 , random_state = 101)\n",
    "decision_tree_model =  DecisionTreeClassifier(criterion=\"entropy\",random_state=101,max_depth=15,max_features=10)\n",
    "decision_tree_model.fit(X_train,y_train)"
   ]
  },
  {
   "cell_type": "code",
   "execution_count": 68,
   "metadata": {},
   "outputs": [
    {
     "name": "stdout",
     "output_type": "stream",
     "text": [
      "Decision Tree Model test on Training set  0.9132935191329352\n",
      "Decision Tree Model test on Test set  0.881082276614568\n"
     ]
    }
   ],
   "source": [
    "y_prediction =  decision_tree_model.predict(X_test)\n",
    "print(\"Decision Tree Model test on Training set \" ,decision_tree_model.score(X_train,y_train))\n",
    "print(\"Decision Tree Model test on Test set \", decision_tree_model.score(X_test,y_test))"
   ]
  },
  {
   "cell_type": "code",
   "execution_count": 69,
   "metadata": {},
   "outputs": [
    {
     "data": {
      "text/html": [
       "<div>\n",
       "<style scoped>\n",
       "    .dataframe tbody tr th:only-of-type {\n",
       "        vertical-align: middle;\n",
       "    }\n",
       "\n",
       "    .dataframe tbody tr th {\n",
       "        vertical-align: top;\n",
       "    }\n",
       "\n",
       "    .dataframe thead th {\n",
       "        text-align: right;\n",
       "    }\n",
       "</style>\n",
       "<table border=\"1\" class=\"dataframe\">\n",
       "  <thead>\n",
       "    <tr style=\"text-align: right;\">\n",
       "      <th></th>\n",
       "      <th>Predicted_0</th>\n",
       "      <th>Predicted_1</th>\n",
       "    </tr>\n",
       "  </thead>\n",
       "  <tbody>\n",
       "    <tr>\n",
       "      <th>Actual_0</th>\n",
       "      <td>11639</td>\n",
       "      <td>328</td>\n",
       "    </tr>\n",
       "    <tr>\n",
       "      <th>Actual_1</th>\n",
       "      <td>1285</td>\n",
       "      <td>312</td>\n",
       "    </tr>\n",
       "  </tbody>\n",
       "</table>\n",
       "</div>"
      ],
      "text/plain": [
       "          Predicted_0  Predicted_1\n",
       "Actual_0        11639          328\n",
       "Actual_1         1285          312"
      ]
     },
     "execution_count": 69,
     "metadata": {},
     "output_type": "execute_result"
    }
   ],
   "source": [
    "pd.DataFrame(data =metrics.confusion_matrix(y_test,y_prediction),columns=[\"Predicted_0\",\"Predicted_1\"],index=[\"Actual_0\",\"Actual_1\"])"
   ]
  },
  {
   "cell_type": "markdown",
   "metadata": {},
   "source": [
    "In the above Confustion Matrix rows are representing Actuals and Columns are representing predicted with 0 and 1 . Here Total No. of Customers who did not subscribe for term deposit and is correctly predicted by the model is 11639 but those customers who did not subscribe for term deposit and not correctly predicted by the model is 328. In the same way those customers who actally subscribed for term deposit and correctly predicted by the model is only 312 and those who subscribed for term deposit but incorrectly predicted by the model is 1285."
   ]
  },
  {
   "cell_type": "code",
   "execution_count": 70,
   "metadata": {},
   "outputs": [
    {
     "name": "stdout",
     "output_type": "stream",
     "text": [
      "              precision    recall  f1-score   support\n",
      "\n",
      "           0       0.90      0.97      0.94     11967\n",
      "           1       0.49      0.20      0.28      1597\n",
      "\n",
      "   micro avg       0.88      0.88      0.88     13564\n",
      "   macro avg       0.69      0.58      0.61     13564\n",
      "weighted avg       0.85      0.88      0.86     13564\n",
      "\n"
     ]
    }
   ],
   "source": [
    "print(metrics.classification_report(y_test,y_prediction))"
   ]
  },
  {
   "cell_type": "markdown",
   "metadata": {},
   "source": [
    "Here Although Overall score for accuracy model on test data has increased from 87% to 88% but still recall value of class 1 is 20 which is very less as compare to our first decision tree model where recall value was 30% but that model was overfit with 100% accuracy on training dataset. For better result we cam use Ensemble method for Decision tree which is Random Forest"
   ]
  },
  {
   "cell_type": "markdown",
   "metadata": {},
   "source": [
    "### Random Forest"
   ]
  },
  {
   "cell_type": "markdown",
   "metadata": {},
   "source": [
    "Random forests, also known as random decision forests, are a popular ensemble method that can be used to build predictive models for both classification and regression problems.In the case of a random forest, the model creates an entire forest of random uncorrelated decision trees to arrive at the best possible answer."
   ]
  },
  {
   "cell_type": "code",
   "execution_count": 71,
   "metadata": {},
   "outputs": [],
   "source": [
    "from sklearn.ensemble import RandomForestClassifier"
   ]
  },
  {
   "cell_type": "code",
   "execution_count": 72,
   "metadata": {},
   "outputs": [
    {
     "data": {
      "text/plain": [
       "RandomForestClassifier(bootstrap=True, class_weight=None, criterion='entropy',\n",
       "            max_depth=None, max_features='auto', max_leaf_nodes=None,\n",
       "            min_impurity_decrease=0.0, min_impurity_split=None,\n",
       "            min_samples_leaf=1, min_samples_split=2,\n",
       "            min_weight_fraction_leaf=0.0, n_estimators=15, n_jobs=None,\n",
       "            oob_score=False, random_state=None, verbose=0,\n",
       "            warm_start=False)"
      ]
     },
     "execution_count": 72,
     "metadata": {},
     "output_type": "execute_result"
    }
   ],
   "source": [
    "X_train , X_test , y_train,y_test  = train_test_split(X,y,test_size = 0.30 , random_state = 101)\n",
    "rfcl =  RandomForestClassifier(n_estimators=15,criterion=\"entropy\")\n",
    "rfcl.fit(X_train,y_train)"
   ]
  },
  {
   "cell_type": "code",
   "execution_count": 73,
   "metadata": {},
   "outputs": [
    {
     "name": "stdout",
     "output_type": "stream",
     "text": [
      "Random Forest Model accuracy on Training set  0.9926691313552627\n",
      "Random Forest Model accuracy on Test set  0.8821881450899439\n"
     ]
    }
   ],
   "source": [
    "y_prediction =  rfcl.predict(X_test)\n",
    "print(\"Random Forest Model accuracy on Training set \" ,rfcl.score(X_train,y_train))\n",
    "print(\"Random Forest Model accuracy on Test set \", rfcl.score(X_test,y_test))"
   ]
  },
  {
   "cell_type": "code",
   "execution_count": 74,
   "metadata": {},
   "outputs": [
    {
     "data": {
      "text/html": [
       "<div>\n",
       "<style scoped>\n",
       "    .dataframe tbody tr th:only-of-type {\n",
       "        vertical-align: middle;\n",
       "    }\n",
       "\n",
       "    .dataframe tbody tr th {\n",
       "        vertical-align: top;\n",
       "    }\n",
       "\n",
       "    .dataframe thead th {\n",
       "        text-align: right;\n",
       "    }\n",
       "</style>\n",
       "<table border=\"1\" class=\"dataframe\">\n",
       "  <thead>\n",
       "    <tr style=\"text-align: right;\">\n",
       "      <th></th>\n",
       "      <th>Predicted_0</th>\n",
       "      <th>Predicted_1</th>\n",
       "    </tr>\n",
       "  </thead>\n",
       "  <tbody>\n",
       "    <tr>\n",
       "      <th>Actual_0</th>\n",
       "      <td>11588</td>\n",
       "      <td>379</td>\n",
       "    </tr>\n",
       "    <tr>\n",
       "      <th>Actual_1</th>\n",
       "      <td>1219</td>\n",
       "      <td>378</td>\n",
       "    </tr>\n",
       "  </tbody>\n",
       "</table>\n",
       "</div>"
      ],
      "text/plain": [
       "          Predicted_0  Predicted_1\n",
       "Actual_0        11588          379\n",
       "Actual_1         1219          378"
      ]
     },
     "execution_count": 74,
     "metadata": {},
     "output_type": "execute_result"
    }
   ],
   "source": [
    "pd.DataFrame(data =metrics.confusion_matrix(y_test,y_prediction),columns=[\"Predicted_0\",\"Predicted_1\"],index=[\"Actual_0\",\"Actual_1\"])"
   ]
  },
  {
   "cell_type": "code",
   "execution_count": 75,
   "metadata": {},
   "outputs": [
    {
     "name": "stdout",
     "output_type": "stream",
     "text": [
      "              precision    recall  f1-score   support\n",
      "\n",
      "           0       0.90      0.97      0.94     11967\n",
      "           1       0.50      0.24      0.32      1597\n",
      "\n",
      "   micro avg       0.88      0.88      0.88     13564\n",
      "   macro avg       0.70      0.60      0.63     13564\n",
      "weighted avg       0.86      0.88      0.86     13564\n",
      "\n"
     ]
    }
   ],
   "source": [
    "print(metrics.classification_report(y_test,y_prediction))"
   ]
  },
  {
   "cell_type": "markdown",
   "metadata": {},
   "source": [
    "Here overall score for training set has increased to 99% and for test set it is 88% which is better than any of the previous regularised decision tree model and also here recall percentage for class 1 is 24 which is better than the previous two regularised desicion tree model"
   ]
  },
  {
   "cell_type": "markdown",
   "metadata": {},
   "source": [
    "### Ensemble Technique - Bagging"
   ]
  },
  {
   "cell_type": "markdown",
   "metadata": {},
   "source": [
    "Bagging Method is designed to improve the stability and accuracy of classification and regression models. It improves variance errors and helps to avoid overfitting. It can be used with anytype of machine learning model. Here we are going to use it with naive bayes."
   ]
  },
  {
   "cell_type": "markdown",
   "metadata": {},
   "source": [
    "<b>Bagging with Naive Bayes</b>"
   ]
  },
  {
   "cell_type": "code",
   "execution_count": 76,
   "metadata": {},
   "outputs": [],
   "source": [
    "from sklearn.ensemble import BaggingClassifier"
   ]
  },
  {
   "cell_type": "code",
   "execution_count": 77,
   "metadata": {},
   "outputs": [
    {
     "data": {
      "text/plain": [
       "BaggingClassifier(base_estimator=GaussianNB(priors=None, var_smoothing=1e-09),\n",
       "         bootstrap=True, bootstrap_features=False, max_features=1.0,\n",
       "         max_samples=0.5, n_estimators=50, n_jobs=None, oob_score=True,\n",
       "         random_state=None, verbose=0, warm_start=False)"
      ]
     },
     "execution_count": 77,
     "metadata": {},
     "output_type": "execute_result"
    }
   ],
   "source": [
    "bgcl = BaggingClassifier(base_estimator=naive_bayes_model, n_estimators=50, max_samples=.50 , oob_score=True)\n",
    "bgcl.fit(X_train,y_train)"
   ]
  },
  {
   "cell_type": "code",
   "execution_count": 78,
   "metadata": {},
   "outputs": [
    {
     "name": "stdout",
     "output_type": "stream",
     "text": [
      "Bagging Classifier test on Training set  0.7942616993711884\n",
      "Bagging Classifier Model test on Test set  0.7960041285756414\n"
     ]
    }
   ],
   "source": [
    "y_prediction =  bgcl.predict(X_test)\n",
    "print(\"Bagging Classifier test on Training set \" ,bgcl.score(X_train,y_train))\n",
    "print(\"Bagging Classifier Model test on Test set \", bgcl.score(X_test,y_test))"
   ]
  },
  {
   "cell_type": "code",
   "execution_count": 79,
   "metadata": {},
   "outputs": [
    {
     "data": {
      "text/html": [
       "<div>\n",
       "<style scoped>\n",
       "    .dataframe tbody tr th:only-of-type {\n",
       "        vertical-align: middle;\n",
       "    }\n",
       "\n",
       "    .dataframe tbody tr th {\n",
       "        vertical-align: top;\n",
       "    }\n",
       "\n",
       "    .dataframe thead th {\n",
       "        text-align: right;\n",
       "    }\n",
       "</style>\n",
       "<table border=\"1\" class=\"dataframe\">\n",
       "  <thead>\n",
       "    <tr style=\"text-align: right;\">\n",
       "      <th></th>\n",
       "      <th>Predicted_0</th>\n",
       "      <th>Predicted_1</th>\n",
       "    </tr>\n",
       "  </thead>\n",
       "  <tbody>\n",
       "    <tr>\n",
       "      <th>Actual_0</th>\n",
       "      <td>10120</td>\n",
       "      <td>1847</td>\n",
       "    </tr>\n",
       "    <tr>\n",
       "      <th>Actual_1</th>\n",
       "      <td>920</td>\n",
       "      <td>677</td>\n",
       "    </tr>\n",
       "  </tbody>\n",
       "</table>\n",
       "</div>"
      ],
      "text/plain": [
       "          Predicted_0  Predicted_1\n",
       "Actual_0        10120         1847\n",
       "Actual_1          920          677"
      ]
     },
     "execution_count": 79,
     "metadata": {},
     "output_type": "execute_result"
    }
   ],
   "source": [
    "pd.DataFrame(data =metrics.confusion_matrix(y_test,y_prediction),columns=[\"Predicted_0\",\"Predicted_1\"],index=[\"Actual_0\",\"Actual_1\"])"
   ]
  },
  {
   "cell_type": "code",
   "execution_count": 80,
   "metadata": {},
   "outputs": [
    {
     "name": "stdout",
     "output_type": "stream",
     "text": [
      "              precision    recall  f1-score   support\n",
      "\n",
      "           0       0.92      0.85      0.88     11967\n",
      "           1       0.27      0.42      0.33      1597\n",
      "\n",
      "   micro avg       0.80      0.80      0.80     13564\n",
      "   macro avg       0.59      0.63      0.60     13564\n",
      "weighted avg       0.84      0.80      0.81     13564\n",
      "\n"
     ]
    }
   ],
   "source": [
    "print(metrics.classification_report(y_test,y_prediction))"
   ]
  },
  {
   "cell_type": "markdown",
   "metadata": {},
   "source": [
    "There is very little effect of the Bagging Method used for Naive Bayes in overall accuracy and also in  recall value. The reason behind this can be the bias in the data towards maximum Number of 0 and less No. of 1 in target Column"
   ]
  },
  {
   "cell_type": "markdown",
   "metadata": {},
   "source": [
    "### Ensemble Technique- ADABoosting"
   ]
  },
  {
   "cell_type": "markdown",
   "metadata": {},
   "source": [
    "AdaBoost can be used to boost the performance of any machine learning algorithm. It is best used with weak learners. These are models that achieve accuracy just above random chance on a classification problem."
   ]
  },
  {
   "cell_type": "code",
   "execution_count": 81,
   "metadata": {},
   "outputs": [],
   "source": [
    "from sklearn.ensemble import AdaBoostClassifier\n",
    "abcl = AdaBoostClassifier(base_estimator=logistic_model, n_estimators=50)\n",
    "abcl = abcl.fit(X_train,y_train)"
   ]
  },
  {
   "cell_type": "code",
   "execution_count": 82,
   "metadata": {},
   "outputs": [
    {
     "name": "stdout",
     "output_type": "stream",
     "text": [
      "ADA Boosting Classifier test on Training set  0.892470060353272\n",
      "ADA Boosting Classifier Model test on Test set  0.8939840754939545\n"
     ]
    }
   ],
   "source": [
    "y_prediction =  abcl.predict(X_test)\n",
    "print(\"ADA Boosting Classifier test on Training set \" ,abcl.score(X_train,y_train))\n",
    "print(\"ADA Boosting Classifier Model test on Test set \", abcl.score(X_test,y_test))"
   ]
  },
  {
   "cell_type": "code",
   "execution_count": 83,
   "metadata": {},
   "outputs": [
    {
     "data": {
      "text/html": [
       "<div>\n",
       "<style scoped>\n",
       "    .dataframe tbody tr th:only-of-type {\n",
       "        vertical-align: middle;\n",
       "    }\n",
       "\n",
       "    .dataframe tbody tr th {\n",
       "        vertical-align: top;\n",
       "    }\n",
       "\n",
       "    .dataframe thead th {\n",
       "        text-align: right;\n",
       "    }\n",
       "</style>\n",
       "<table border=\"1\" class=\"dataframe\">\n",
       "  <thead>\n",
       "    <tr style=\"text-align: right;\">\n",
       "      <th></th>\n",
       "      <th>Predicted_0</th>\n",
       "      <th>Predicted_1</th>\n",
       "    </tr>\n",
       "  </thead>\n",
       "  <tbody>\n",
       "    <tr>\n",
       "      <th>Actual_0</th>\n",
       "      <td>11827</td>\n",
       "      <td>140</td>\n",
       "    </tr>\n",
       "    <tr>\n",
       "      <th>Actual_1</th>\n",
       "      <td>1298</td>\n",
       "      <td>299</td>\n",
       "    </tr>\n",
       "  </tbody>\n",
       "</table>\n",
       "</div>"
      ],
      "text/plain": [
       "          Predicted_0  Predicted_1\n",
       "Actual_0        11827          140\n",
       "Actual_1         1298          299"
      ]
     },
     "execution_count": 83,
     "metadata": {},
     "output_type": "execute_result"
    }
   ],
   "source": [
    "pd.DataFrame(data =metrics.confusion_matrix(y_test,y_prediction),columns=[\"Predicted_0\",\"Predicted_1\"],index=[\"Actual_0\",\"Actual_1\"])"
   ]
  },
  {
   "cell_type": "code",
   "execution_count": 84,
   "metadata": {},
   "outputs": [
    {
     "name": "stdout",
     "output_type": "stream",
     "text": [
      "              precision    recall  f1-score   support\n",
      "\n",
      "           0       0.90      0.99      0.94     11967\n",
      "           1       0.68      0.19      0.29      1597\n",
      "\n",
      "   micro avg       0.89      0.89      0.89     13564\n",
      "   macro avg       0.79      0.59      0.62     13564\n",
      "weighted avg       0.88      0.89      0.87     13564\n",
      "\n"
     ]
    }
   ],
   "source": [
    "print(metrics.classification_report(y_test,y_prediction))"
   ]
  },
  {
   "cell_type": "markdown",
   "metadata": {},
   "source": [
    "Again there is very little effect of the AdaBoosting Method used for Logistic Regression in overall accuracy and also in  recall value. The reason behind this can be the bias in the data towards maximum Number of 0 and less No. of 1 in target Column"
   ]
  },
  {
   "cell_type": "markdown",
   "metadata": {},
   "source": [
    "### Ensemble Technique- Gradient Boosting"
   ]
  },
  {
   "cell_type": "code",
   "execution_count": 85,
   "metadata": {},
   "outputs": [],
   "source": [
    "from sklearn.ensemble import GradientBoostingClassifier"
   ]
  },
  {
   "cell_type": "code",
   "execution_count": 108,
   "metadata": {},
   "outputs": [],
   "source": [
    "gbcl = GradientBoostingClassifier(n_estimators = 50)\n",
    "gbcl = gbcl.fit(X_train, y_train)"
   ]
  },
  {
   "cell_type": "code",
   "execution_count": 109,
   "metadata": {},
   "outputs": [
    {
     "name": "stdout",
     "output_type": "stream",
     "text": [
      "Gradient Boosting Classifier test on Training set  0.8957247132429614\n",
      "Gradient Boosting Classifier Model test on Test set  0.8942789737540549\n"
     ]
    }
   ],
   "source": [
    "y_prediction =  gbcl.predict(X_test)\n",
    "print(\"Gradient Boosting Classifier test on Training set \" ,gbcl.score(X_train,y_train))\n",
    "print(\"Gradient Boosting Classifier Model test on Test set \", gbcl.score(X_test,y_test))"
   ]
  },
  {
   "cell_type": "code",
   "execution_count": 110,
   "metadata": {},
   "outputs": [
    {
     "data": {
      "text/html": [
       "<div>\n",
       "<style scoped>\n",
       "    .dataframe tbody tr th:only-of-type {\n",
       "        vertical-align: middle;\n",
       "    }\n",
       "\n",
       "    .dataframe tbody tr th {\n",
       "        vertical-align: top;\n",
       "    }\n",
       "\n",
       "    .dataframe thead th {\n",
       "        text-align: right;\n",
       "    }\n",
       "</style>\n",
       "<table border=\"1\" class=\"dataframe\">\n",
       "  <thead>\n",
       "    <tr style=\"text-align: right;\">\n",
       "      <th></th>\n",
       "      <th>Predicted_0</th>\n",
       "      <th>Predicted_1</th>\n",
       "    </tr>\n",
       "  </thead>\n",
       "  <tbody>\n",
       "    <tr>\n",
       "      <th>Actual_0</th>\n",
       "      <td>11826</td>\n",
       "      <td>141</td>\n",
       "    </tr>\n",
       "    <tr>\n",
       "      <th>Actual_1</th>\n",
       "      <td>1293</td>\n",
       "      <td>304</td>\n",
       "    </tr>\n",
       "  </tbody>\n",
       "</table>\n",
       "</div>"
      ],
      "text/plain": [
       "          Predicted_0  Predicted_1\n",
       "Actual_0        11826          141\n",
       "Actual_1         1293          304"
      ]
     },
     "execution_count": 110,
     "metadata": {},
     "output_type": "execute_result"
    }
   ],
   "source": [
    "pd.DataFrame(data =metrics.confusion_matrix(y_test,y_prediction),columns=[\"Predicted_0\",\"Predicted_1\"],index=[\"Actual_0\",\"Actual_1\"])"
   ]
  },
  {
   "cell_type": "code",
   "execution_count": 111,
   "metadata": {
    "scrolled": true
   },
   "outputs": [
    {
     "name": "stdout",
     "output_type": "stream",
     "text": [
      "              precision    recall  f1-score   support\n",
      "\n",
      "           0       0.90      0.99      0.94     11967\n",
      "           1       0.68      0.19      0.30      1597\n",
      "\n",
      "   micro avg       0.89      0.89      0.89     13564\n",
      "   macro avg       0.79      0.59      0.62     13564\n",
      "weighted avg       0.88      0.89      0.87     13564\n",
      "\n"
     ]
    }
   ],
   "source": [
    "print(metrics.classification_report(y_test,y_prediction))"
   ]
  },
  {
   "cell_type": "markdown",
   "metadata": {},
   "source": [
    "In This case also there is very less improvement in overall score and in recall method when we compare with decision tree."
   ]
  },
  {
   "cell_type": "markdown",
   "metadata": {},
   "source": [
    "<b>Conclusion - > In base model naive bayes is providing good recall value of class 1 with 43% but if we consider overall accuracy then decision tree is better with 92% accuracy with some regulations. Apart from this in Ensamble method Random Forest is showing a good improvement in the model with increase in recall value for class 1 and also little increase in overall score than any regularised decision tree model. Rest Ensemble models are not showing a good improvement because of the data that we have contains only 11.70% class 1 value of the total data. So this bais in the data can be one of the reason.</b>"
   ]
  }
 ],
 "metadata": {
  "kernelspec": {
   "display_name": "Python 3",
   "language": "python",
   "name": "python3"
  },
  "language_info": {
   "codemirror_mode": {
    "name": "ipython",
    "version": 3
   },
   "file_extension": ".py",
   "mimetype": "text/x-python",
   "name": "python",
   "nbconvert_exporter": "python",
   "pygments_lexer": "ipython3",
   "version": "3.7.4"
  }
 },
 "nbformat": 4,
 "nbformat_minor": 2
}
